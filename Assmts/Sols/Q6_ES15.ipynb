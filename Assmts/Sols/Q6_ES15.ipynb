{
 "cells": [
  {
   "cell_type": "code",
   "execution_count": 14,
   "metadata": {},
   "outputs": [],
   "source": [
    "import cvxpy as cp\n",
    "import numpy as np"
   ]
  },
  {
   "cell_type": "code",
   "execution_count": 15,
   "metadata": {},
   "outputs": [
    {
     "name": "stdout",
     "output_type": "stream",
     "text": [
      "(2, 2)\n",
      "(3, 2)\n",
      "(2, 1)\n",
      "(3, 1)\n"
     ]
    }
   ],
   "source": [
    "S = np.matrix('1 -0.5 ;-0.5, 2')\n",
    "print(S.shape)\n",
    "A = np.matrix('1 -2 ; 1  4; 5 -76 ')\n",
    "print(A.shape)\n",
    "b = np.matrix('-2 -3 1').T\n",
    "extra = np.matrix('-1 0').T\n",
    "print(extra.shape)\n",
    "print(b.shape)"
   ]
  },
  {
   "cell_type": "markdown",
   "metadata": {},
   "source": [
    "### $\\text{(a) The primal}$\n",
    "\n",
    "---\n",
    "\n",
    "Every term in the objective is Quadratic except the last one. This hints an approach using Quadratic forms.\n",
    "Let \n",
    "\\begin{align}\n",
    "        \\vec{x}  =  \n",
    "        \\begin{bmatrix} \n",
    "        x_1 \\\\\n",
    "        x_2\n",
    "        \\end{bmatrix}\n",
    "\\end{align}\n",
    "Although several quadratic forms may fit this description, we choose a $\\textbf{Symmetric}$ one\n",
    "\\begin{align}\n",
    "    \\min \\ x_1^2 + 2x_2^2 + x_1x_2 - x_1  = \\ \n",
    "    \\begin{bmatrix} \n",
    "        x_1 \\\\\n",
    "        x_2\n",
    "    \\end{bmatrix}^T\n",
    "    \\begin{bmatrix}\n",
    "    1 & -0.5 \\\\\n",
    "    -0.5 & 1 \n",
    "    \\end{bmatrix}\n",
    "    \\begin{bmatrix} \n",
    "        x_1 \\\\\n",
    "        x_2\n",
    "    \\end{bmatrix}\n",
    "     + [-1 \\  \\ 0]^Tx\n",
    "     = \\vec{x}^T S \\vec{x} + e^T\\vec{x}\n",
    "\\end{align}\n",
    "\n",
    "$ \\text{Since rest of the constraints are affine and } S \\in  \\mathbb{S}_{n}^{++}$ $\\text{, This is a QP}$"
   ]
  },
  {
   "cell_type": "code",
   "execution_count": 16,
   "metadata": {},
   "outputs": [
    {
     "name": "stdout",
     "output_type": "stream",
     "text": [
      "result of the primal =  7.444444444444442\n"
     ]
    }
   ],
   "source": [
    "x = cp.Variable((2,1))\n",
    "objective = cp.Minimize(cp.quad_form(x,S) + extra.T@x)\n",
    "constraints = [A@x <= b]\n",
    "problem = cp.Problem(objective,constraints)\n",
    "p_star = problem.solve()\n",
    "print(\"result of the primal = \",p_star)\n"
   ]
  },
  {
   "cell_type": "code",
   "execution_count": 17,
   "metadata": {},
   "outputs": [
    {
     "name": "stdout",
     "output_type": "stream",
     "text": [
      "optimal x =  [[-2.33333333]\n",
      " [-0.16666667]]\n",
      "(2, 1)\n"
     ]
    }
   ],
   "source": [
    "print(\"optimal x = \", x.value)\n",
    "x_star = x.value\n",
    "print(x_star.shape)"
   ]
  },
  {
   "cell_type": "code",
   "execution_count": 18,
   "metadata": {},
   "outputs": [
    {
     "name": "stdout",
     "output_type": "stream",
     "text": [
      "<class 'numpy.matrix'>\n",
      "<class 'numpy.matrix'>\n",
      "<class 'numpy.ndarray'>\n",
      "<class 'numpy.matrix'>\n"
     ]
    }
   ],
   "source": [
    "print(type(S))\n",
    "print(type(A))\n",
    "print(type(x_star))\n",
    "x_star = np.asmatrix(x_star)\n",
    "print(type(x_star)) #type checking to prevent errors "
   ]
  },
  {
   "cell_type": "markdown",
   "metadata": {},
   "source": [
    "### $\\text{(b) The Dual}$\n",
    "\n",
    "---\n",
    "The lagrangian is given by adding the polyhedra constraints\n",
    "\\begin{align}\n",
    "    L(x,\\lambda) = x^tSx + e^Tx + \\lambda^T(Ax - b)  = \\text{Convex as S$\\ge$ 0}\n",
    "    \\\\\n",
    "    \\nabla_{x} L(x^*,\\lambda) = 0 \\ \\ \\ (\\text{Forcing KKT condition})\n",
    "    \\\\\n",
    "\\end{align}\n",
    "Solving the second equation gives,\n",
    "\\begin{align}\n",
    "    x^* = -\\frac{1}{2}S^{-1}(A^T\\lambda + e)\n",
    "\\end{align}\n",
    "\n",
    "Now we substitute the value of $x^*$ in (3) into the lagrangian to get a pure function of $\\lambda$.\n",
    "\n",
    "\n",
    "This function is the dual objective $g(\\lambda)$ we should now solve for the maximum value of this function, assuming $\\lambda \\ge 0 $ and (3) holds"
   ]
  },
  {
   "cell_type": "code",
   "execution_count": 19,
   "metadata": {},
   "outputs": [
    {
     "name": "stdout",
     "output_type": "stream",
     "text": [
      "[[3.94444444e+00]\n",
      " [1.55555556e+00]\n",
      " [3.79729124e-23]]\n"
     ]
    }
   ],
   "source": [
    "\n",
    "lambda_star = cp.Variable((3,1))\n",
    "objective_dual = cp.Maximize(-0.25*(cp.quad_form((A.T@lambda_star + extra),np.linalg.inv(S.T)) ) -0.5*extra.T@(np.linalg.inv(S)@(A.T@lambda_star + extra)) )\n",
    "constraints_dual= [A.T@lambda_star + extra + 2*S@x_star == 0,lambda_star >=0,lambda_star[2][0] ==0]\n",
    "prob = cp.Problem(objective_dual,constraints_dual)\n",
    "result = prob.solve()\n",
    "dual_vars = lambda_star.value\n",
    "print(dual_vars)\n",
    "\n"
   ]
  },
  {
   "cell_type": "markdown",
   "metadata": {},
   "source": [
    "### $\\text{(b) Dual Values}$\n",
    "\n",
    "----\n",
    "\n",
    "\n",
    "When you solve this system (without the extra constraint of $\\lambda_{3} = 0$ you will get dual variables which are  non - zero for the third constraint!.\n",
    "This is a problem that arises because of the iterative methods that CVXPY uses to solve the problems (if you continue without this your dual varaibles will not match up with the rate of change of the optimal value when perturbing)).\n",
    "\n",
    "\\begin{align}\n",
    "\\vec{\\lambda} = \n",
    "\\begin{bmatrix}\n",
    "3.944 \\\\\n",
    "1.555 \\\\\n",
    "0.000 \\\\\n",
    "\\end{bmatrix}\n",
    "\\end{align}\n"
   ]
  },
  {
   "cell_type": "code",
   "execution_count": 35,
   "metadata": {},
   "outputs": [
    {
     "name": "stdout",
     "output_type": "stream",
     "text": [
      "\n",
      "x is feasible ? ,AX - b = \n",
      " [[4.4408921e-16]\n",
      " [0.0000000e+00]\n",
      " [4.4408921e-15]]\n",
      "Gradient = \n",
      " [[0.0000000e+00]\n",
      " [8.8817842e-16]]\n",
      "Slackness = \n",
      " [[1.75168522e-15]]\n",
      "lambda feasible ? \n",
      " [[ True]\n",
      " [ True]\n",
      " [ True]]\n"
     ]
    }
   ],
   "source": [
    "#to solve for dual Variables ;\n",
    "K = A@x_star\n",
    "print()\n",
    "print(\"x is feasible ? ,AX - b = \\n\",K - b)\n",
    "print(\"Gradient = \\n\",(A.T@lambda_star.value + extra + 2*S@x_star))\n",
    "print(\"Slackness = \\n\",lambda_star.value.T @ (A@x_star - b))\n",
    "print(\"lambda feasible ? \\n\",lambda_star.value >= 0)\n",
    "\n",
    "#nearly all of the slackness condidtions are satisified , so dual variables may be  non zero"
   ]
  },
  {
   "cell_type": "markdown",
   "metadata": {},
   "source": [
    "### $\\text{(e) KKT Conditions}$\n",
    "\n",
    "---\n",
    "\n",
    "As you can see from the code above, all the KKT conditions are holding, Moreover our problem is convex , therefore Strong duality will hold."
   ]
  },
  {
   "cell_type": "code",
   "execution_count": 59,
   "metadata": {},
   "outputs": [
    {
     "name": "stdout",
     "output_type": "stream",
     "text": [
      "-5 -2\n",
      "-5 -2\n"
     ]
    }
   ],
   "source": [
    "\n",
    "h = 0.08\n",
    "u1_min, u1_max = -5, -2\n",
    "u2_min, u2_max = -5 ,-2\n",
    "print(u2_min, u2_max)\n",
    "print(u1_min,u1_max)\n",
    "xx, yy = np.meshgrid(np.arange(u1_min, u1_max, h),\n",
    "                     np.arange(u1_min, u2_max, h))"
   ]
  },
  {
   "cell_type": "code",
   "execution_count": 60,
   "metadata": {},
   "outputs": [],
   "source": [
    "def Calculate_optima(u1,u2):\n",
    "    b_new = np.matrix([[u1 ,u2, 1]]).T\n",
    "    x = cp.Variable((2,1))\n",
    "    objective = cp.Minimize(cp.quad_form(x,S) + extra.T@x)\n",
    "    constraints = [A@x <= b_new]\n",
    "    problem = cp.Problem(objective,constraints)\n",
    "    p_star = problem.solve()\n",
    "    return p_star"
   ]
  },
  {
   "cell_type": "code",
   "execution_count": 61,
   "metadata": {},
   "outputs": [],
   "source": [
    "p_star_vals = np.ones(xx.shape)\n",
    "for i in range(xx.shape[0]):\n",
    "    for j in range(xx.shape[1]):\n",
    "        p_star_vals[i][j] = Calculate_optima(xx[i][j],yy[i][j])\n",
    "        "
   ]
  },
  {
   "cell_type": "code",
   "execution_count": 62,
   "metadata": {},
   "outputs": [
    {
     "name": "stdout",
     "output_type": "stream",
     "text": [
      "[[1.75168522e-15]]\n"
     ]
    }
   ],
   "source": [
    "np.linalg.eigvals(S)\n",
    "print(dual_vars.T @(A@x_star - b))"
   ]
  },
  {
   "cell_type": "markdown",
   "metadata": {},
   "source": [
    "### $ (d),(e)\\text{Plotting Level Curves, Convexity of p(u1,u2) } $\n",
    "\n",
    "---\n",
    "\n",
    "The level curves will be of the form below, this obtained by repeatedly solving for all the possible values of optimal in the plane. $p^*$ can be obtained by also imposing slackness and substituting the values of u1 and u2 into the value of p.\n",
    "\n",
    "\\begin{align}\n",
    " x^*_{1} - 2x^*_2 = u_1\n",
    " \\\\\n",
    " x^*_{1} + 4x^*_2 = u_2\n",
    " \\\\\n",
    " p^* = x_1^2 + 2x_2^2 + x_1x_2 - x_1 \n",
    " \\\\\n",
    " \\text{Substituting values of $x_1^*$ and $x_2^*$ into p}\n",
    " \\\\\n",
    " p^* = \\frac{1}{18} \\times (11u_1^2 + 5u_1u_2 + 2u_2^2 - 12u_1 - 6u_2)\n",
    " \\\\\n",
    " p^* = \\frac{1}{18} ( u^T \n",
    " \\begin{bmatrix}\n",
    "  11 & 2.5 \\\\\n",
    "  2.5 & 2 \\\\\n",
    " \\end{bmatrix}\n",
    " u + [12  \\ -6]^T u)\n",
    " p^* = \\text{Quadratic with +ve Semidefinite Matrix = Convex}\n",
    "\\end{align}\n",
    "\n"
   ]
  },
  {
   "cell_type": "code",
   "execution_count": 63,
   "metadata": {},
   "outputs": [
    {
     "name": "stdout",
     "output_type": "stream",
     "text": [
      "(38, 38)\n"
     ]
    },
    {
     "data": {
      "image/png": "[encoded data removed]",
      "text/plain": [
       "<Figure size 432x288 with 1 Axes>"
      ]
     },
     "metadata": {
      "needs_background": "light"
     },
     "output_type": "display_data"
    }
   ],
   "source": [
    "print(p_star_vals.shape)\n",
    "import matplotlib.pyplot as plt\n",
    "fig,ax = plt.subplots()\n",
    "level_curves = ax.contour(xx,yy,p_star_vals)\n",
    "ax.set_xlabel(\"u_1\")\n",
    "ax.set_ylabel(\"u_2\")\n",
    "ax.set_title(\"Feasible Contours of p*\")\n",
    "ax.clabel(level_curves,inline = True, fontsize = 10)\n",
    "plt.show()"
   ]
  },
  {
   "cell_type": "code",
   "execution_count": 64,
   "metadata": {},
   "outputs": [
    {
     "name": "stdout",
     "output_type": "stream",
     "text": [
      "-5 5\n",
      "-5 5\n"
     ]
    }
   ],
   "source": [
    "#say i now ignore feasibility and just plot the function which we obtained above \n",
    "h = 0.08\n",
    "u1_min_,u1_max = -5, +5\n",
    "u2_min, u2_max = -5 ,+5\n",
    "print(u2_min, u2_max)\n",
    "print(u1_min,u1_max)\n",
    "xx, yy = np.meshgrid(np.arange(u1_min, u1_max, h),\n",
    "                     np.arange(u1_min, u2_max, h))\n"
   ]
  },
  {
   "cell_type": "code",
   "execution_count": 65,
   "metadata": {},
   "outputs": [],
   "source": [
    "def elliptic(u1 ,u2):\n",
    "    return (11*u1**2  + 5*u1*u2 + 2* u2**2  - 12*u1 - 6*u2)/18\n"
   ]
  },
  {
   "cell_type": "code",
   "execution_count": 66,
   "metadata": {},
   "outputs": [
    {
     "name": "stdout",
     "output_type": "stream",
     "text": [
      "(125, 125)\n"
     ]
    }
   ],
   "source": [
    "p_star_new_vals = np.ones(xx.shape)\n",
    "for i in range(xx.shape[0]):\n",
    "    for j in range(xx.shape[1]):\n",
    "        p_star_new_vals[i][j] = elliptic(xx[i][j] , yy[i][j])\n",
    "print(p_star_new_vals.shape)\n"
   ]
  },
  {
   "cell_type": "code",
   "execution_count": 50,
   "metadata": {},
   "outputs": [
    {
     "data": {
      "image/png": "[encoded data removed]",
      "text/plain": [
       "<Figure size 432x288 with 1 Axes>"
      ]
     },
     "metadata": {
      "needs_background": "light"
     },
     "output_type": "display_data"
    }
   ],
   "source": [
    "fig,ax = plt.subplots()\n",
    "level_curves = ax.contour(xx,yy,p_star_new_vals)\n",
    "ax.set_xlabel(\"u_1\")\n",
    "ax.set_ylabel(\"u_2\")\n",
    "ax.set_title(\"Contours of unconstrained p*\")\n",
    "ax.clabel(level_curves,inline = True, fontsize = 10)\n",
    "plt.show()"
   ]
  },
  {
   "cell_type": "markdown",
   "metadata": {},
   "source": [
    "### $\\text{(f) Perturbation}$\n",
    "\n",
    "---\n",
    "\n",
    "The code below changes the values by 0.008 (local to 2 and 3) and then we measure the change in the optimal value clearly they match ! \n",
    "\\begin{align}\n",
    "        \\nabla p(u_1,u_2) = \n",
    "        \\begin{bmatrix}\n",
    "        -\\lambda_1 \\\\\n",
    "        -\\lambda_2\n",
    "        \\end{bmatrix}\n",
    "\\end{align} "
   ]
  },
  {
   "cell_type": "code",
   "execution_count": 26,
   "metadata": {},
   "outputs": [
    {
     "name": "stdout",
     "output_type": "stream",
     "text": [
      "7.444444444444442\n",
      "dpdu1 =  -3.9428131944444833\n",
      "dpdu2 =  -1.5466666666666296\n",
      "lambda 1 =  3.9444444444444438\n",
      "lambda 2 =  1.5555555555555556\n"
     ]
    }
   ],
   "source": [
    "#let us calculate numerical gradient near u1 = -2 and u2 = -3\n",
    "dpdu1 = (Calculate_optima(-2.079 + 0.08, -3) - Calculate_optima(-2.079, -3))/(0.08) #small perturbation to avoid the flattening at the end of the level curve\n",
    "dpdu2 = (Calculate_optima(-2, -3 + 0.08) - Calculate_optima(-2 , -3))/(0.08)\n",
    "lambda_1 = dual_vars[0][0]\n",
    "lambda_2 = dual_vars[1][0]\n",
    "print(Calculate_optima(-2,-3))\n",
    "print(\"dpdu1 = \",dpdu1)\n",
    "print(\"dpdu2 = \",dpdu2)\n",
    "print(\"lambda 1 = \",lambda_1)\n",
    "print(\"lambda 2 = \",lambda_2)\n"
   ]
  }
 ],
 "metadata": {
  "interpreter": {
   "hash": "916dbcbb3f70747c44a77c7bcd40155683ae19c65e1c03b4aa3499c5328201f1"
  },
  "kernelspec": {
   "display_name": "Python 3.8.10 64-bit",
   "language": "python",
   "name": "python3"
  },
  "language_info": {
   "codemirror_mode": {
    "name": "ipython",
    "version": 3
   },
   "file_extension": ".py",
   "mimetype": "text/x-python",
   "name": "python",
   "nbconvert_exporter": "python",
   "pygments_lexer": "ipython3",
   "version": "3.8.10"
  },
  "orig_nbformat": 4
 },
 "nbformat": 4,
 "nbformat_minor": 2
}
