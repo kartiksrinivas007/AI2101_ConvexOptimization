{
  "nbformat": 4,
  "nbformat_minor": 0,
  "metadata": {
    "colab": {
      "name": "Apple_ES15.ipynb",
      "provenance": [],
      "collapsed_sections": []
    },
    "kernelspec": {
      "name": "python3",
      "display_name": "Python 3"
    },
    "language_info": {
      "name": "python"
    }
  },
  "cells": [
    {
      "cell_type": "markdown",
      "source": [
        "## $\\text{Introduction}$\n",
        "\n",
        "---\n",
        "Hey! My name is Kartik, ES20BTECH11015. Welcome to the analysis of the \"Apple Problem\" :). I have stated all the notations in the following Text box. All equations are coded in LaTeX \n",
        "\n",
        "**Parts (A) TO (D) are explained as well**.\n"
      ],
      "metadata": {
        "id": "j4NFnbR2NPK2"
      }
    },
    {
      "cell_type": "markdown",
      "source": [
        "# **$\\text{Notations}$**\n",
        "\n",
        "---\n",
        "\n",
        "\n",
        "### **Note : Order of all the values are : ipod-iphone-ipad.**\n",
        "\n",
        "$\\text{Maximum work in a day Matrix}:$ $M_d \\text{ }ϵ \\text{ } \\mathbb{R}^{3 × 1} $\n",
        "\n",
        "$\\text{Maximum Output by end of Week :}$ $M_w  \\text{ }ϵ \\text{ } \\mathbb{R}^{3 × 1} $\n",
        "\n",
        "$\\text{Demand by end of Week :}$ $D \\text{ }ϵ \\text{ } \\mathbb{R}^{3 × 1} $\n",
        "\n",
        "$\\text{Fraction of time given per day to each Part :}$ $X  \\text{ }ϵ \\text{ } \\mathbb{R}^{3 × 1} $\n",
        "\n",
        "$\\text{Space Occupied by each Part :}$ $S \\text{ }ϵ \\text{ } \\mathbb{R}^{1 × 3} $\n",
        "\n",
        "$\\text{Profit per part : }$$P \\text{ }ϵ \\text{ } \\mathbb{R}^{1 × 3} $\n",
        "\n",
        "$\\text{Time given to each part per week :}$  $Y \\text{ }ϵ \\text{ } \\mathbb{R}^{1 × 3} $\n",
        "\n",
        "$\\text{Number of Hours given per week :  }$$Z \\text{ }ϵ \\text{ } \\mathbb{R}^{1 × 3} $\n"
      ],
      "metadata": {
        "id": "r9gGQZNRe1TM"
      }
    },
    {
      "cell_type": "code",
      "source": [
        "import cvxpy as cp\n",
        "import numpy as np\n",
        "\n",
        "max_day = np.matrix([6000,5000,3000]).T\n",
        "demand = np.matrix([5000,0,4000]).T\n",
        "max_prod = np.matrix([10000,15000,8000]).T\n",
        "x = cp.Variable((3,1))\n",
        "space = np.matrix([40/1000, 45/1000, 210/1000])\n",
        "prof = np.matrix([4,6,10])\n"
      ],
      "metadata": {
        "id": "qdXpV4Rv9Dj2"
      },
      "execution_count": null,
      "outputs": []
    },
    {
      "cell_type": "markdown",
      "source": [
        "## **$\\text{(a) Formulation in Terms of } X$**\n",
        "---\n",
        "\n",
        "The objective is the maximization of profit.\n",
        "The amount of profit covered in 5 days is five times the amount of profit covered in one day. \n",
        "The amount produced in Each day is going to be denoted by $a$ and the entire linear program revolves around $a$.\n",
        "\n",
        "$a(i) = X(i) × M_d(i) \\text {.....} \\text{  Element wise Multiplication}$\n",
        "\n",
        "The task is then to represent this element wise multiplication into some form of matrix multiplication to form the objective and constraints.\n",
        "\n",
        "\\begin{align}\n",
        "          \\text{Consider the matrix } M = \n",
        "              \\begin{bmatrix}\n",
        "                M_d(1) & 0 & 0\\\\\n",
        "                0 & M_d(2) & 0 \\\\\n",
        "                0 & 0 & M_d(3)\n",
        "          \\end{bmatrix}        \n",
        "\\end{align}\n",
        "\n",
        "\\\\\n",
        "\\\n",
        "\\begin{align}\n",
        "          \\text{The multiplication of M and X yields a} \n",
        "          \\newline M \\times X = a\n",
        "\\end{align}\n",
        "\n",
        "\\\\\n",
        "$\\text{Objective}:$\n",
        "\n",
        "\\begin{align} \n",
        "\\text{min } ((5PM)^T)^TX\n",
        "\\end{align}\n",
        "\n",
        "\n",
        "$\\text{Constraints} : $\n",
        "\n",
        "\\begin{align}         \n",
        "          \\newline (5M)X \\le M_w\n",
        "          \\newline (5M)X \\ge D\n",
        "          \\newline S \\times (5MX) \\le 6000\n",
        "          \\newline 1^TX = 1\n",
        "          \\newline X \\ge 0\n",
        "          \\newline \n",
        "\\end{align}"
      ],
      "metadata": {
        "id": "V-cs1Huyi0x7"
      }
    },
    {
      "cell_type": "markdown",
      "source": [
        "## $\\text{(b) Formulation in terms of $Y$}$\n",
        "\n",
        "---\n",
        "\n",
        "Y and X are linearly related. The conditions are nearly similar. \n",
        "Note that \n",
        "\n",
        "\n",
        "$Y = 5MX$ !\n",
        "\n",
        "\n",
        "$Y = \\text{number of parts per week }  = 5 * \\begin{bmatrix} X(1)*M_d(1) \\\\ X(2)*M_d(2) \\\\ X(3)*M_d(3) \\end{bmatrix} = 5MX$\n",
        "\n",
        "\n",
        "\\\\\n",
        "$\\text{Objective}:$\n",
        "\n",
        "\\begin{align} \n",
        "\\text{min } ((P)^T)^TY\n",
        "\\end{align}\n",
        "\n",
        "\n",
        "$\\text{Constraints} : $\n",
        "\n",
        "\\begin{align}         \n",
        "          \\newline Y \\le M_w\n",
        "          \\newline Y \\ge D\n",
        "          \\newline S \\times Y \\le 6000\n",
        "          \\newline 1^TX = 1 ⇒ 1^T (5M)^{-1}Y = 1\n",
        "          \\newline Y \\ge 0\n",
        "          \\newline \n",
        "\\end{align}"
      ],
      "metadata": {
        "id": "UJ9Xr4Tt_aD6"
      }
    },
    {
      "cell_type": "markdown",
      "source": [
        "## $\\text{(c) Formulation in terms of $Z$}$\n",
        "\n",
        "---\n",
        "\n",
        "Z and X are linearly related. The number of hours per day is 8, so we get number of hours in the week = 5 times that of in a day\n",
        "\n",
        "$Z = 5 *(8X)$ !\n",
        "\n",
        "\n",
        "$Z = \\text{number of hours per week }  = 5 * \\begin{bmatrix} X(1)*8 \\\\ X(2)*8 \\\\ X(3)*8 \\end{bmatrix} = 40X$\n",
        "\n",
        "\n",
        "\\\\\n",
        "$\\text{Objective}:$\n",
        "\n",
        "\\begin{align} \n",
        "\\text{min } ((5PM)^T)^T(Z/40)\n",
        "\\end{align}\n",
        "\n",
        "\n",
        "$\\text{Constraints} : $\n",
        "\n",
        "\\begin{align}         \n",
        "          \\newline (5M)Z/40 \\le M_w\n",
        "          \\newline (5M)Z/40\\ge D\n",
        "          \\newline S \\times (5M(Z/40)) \\le 6000\n",
        "          \\newline 1^TZ <= 40\n",
        "          \\newline Z \\ge 0\n",
        "          \\newline \n",
        "\\end{align}"
      ],
      "metadata": {
        "id": "msSxx-RWCUeV"
      }
    },
    {
      "cell_type": "markdown",
      "source": [
        "### $\\text{(d) Relationships Summarized}$\n",
        "\n",
        "---\n",
        "\n",
        "\\begin{align}\n",
        "         Y = \\begin{bmatrix} y_1 \\\\ y_ 2 \\\\y_3 \\end{bmatrix} = 5* \n",
        "         \\begin{bmatrix}\n",
        "                M_d(1) & 0 & 0\\\\\n",
        "                0 & M_d(2) & 0 \\\\\n",
        "                0 & 0 & M_d(3)\n",
        "          \\end{bmatrix} * \n",
        "          \\begin{bmatrix} x_1 \\\\ x_ 2 \\\\x_3 \\end{bmatrix} = 5MX \n",
        "\\end{align}\n",
        "\n",
        " \\\\\n",
        "\n",
        "\\begin{align}\n",
        "         Z  = 5*(8X) = 40X \n",
        "\\end{align}\n",
        "\n",
        "\n",
        "\n"
      ],
      "metadata": {
        "id": "bl_bmq1kIsFb"
      }
    },
    {
      "cell_type": "code",
      "execution_count": null,
      "metadata": {
        "id": "AiehxEGaeu_-",
        "colab": {
          "base_uri": "https://localhost:8080/"
        },
        "outputId": "806ec902-fe45-4af1-8bd1-5da178edfd80"
      },
      "outputs": [
        {
          "output_type": "stream",
          "name": "stdout",
          "text": [
            "Max profit in dollars =  145000.0000001104\n",
            "Fractions of time spent everyday is  = \n",
            " [[0.16666667]\n",
            " [0.31000289]\n",
            " [0.52333045]]\n",
            "Order is ipod - iphone - ipad\n"
          ]
        }
      ],
      "source": [
        "constraints = [x>=0,x<=1, np.ones((1,3))@x == 1]\n",
        "constraints+= [5*cp.multiply(max_day,x) <= max_prod]\n",
        "constraints+= [5*cp.multiply(max_day,x) >= demand]\n",
        "constraints+= [space @ (5*cp.multiply(max_day,x)) <= 6000]\n",
        "objective = cp.Maximize(prof @(5*cp.multiply(max_day,x)))\n",
        "prob = cp.Problem(objective, constraints)\n",
        "result = prob.solve()\n",
        "print(\"Max profit in dollars = \",result)\n",
        "print(\"Fractions of time spent everyday is  = \\n\", x.value)\n",
        "print(\"Order is ipod - iphone - ipad\")\n"
      ]
    },
    {
      "cell_type": "markdown",
      "source": [
        "## $\\text{Final Result}$\n",
        "\n",
        "\n",
        "---\n",
        "\n",
        "The optimal profit is equal to 145000 ${$}$. The fraction of time spent everyday is in the order ipod - iphone - ipad."
      ],
      "metadata": {
        "id": "uqAdlp0rC7R0"
      }
    }
  ]
}