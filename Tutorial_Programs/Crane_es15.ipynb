{
  "nbformat": 4,
  "nbformat_minor": 0,
  "metadata": {
    "colab": {
      "name": "Crane_es15.ipynb",
      "provenance": [],
      "collapsed_sections": []
    },
    "kernelspec": {
      "name": "python3",
      "display_name": "Python 3"
    },
    "language_info": {
      "name": "python"
    }
  },
  "cells": [
    {
      "cell_type": "markdown",
      "source": [
        "## $\\text{Introduction}$\n",
        "\n",
        "---\n",
        "\n",
        "\n",
        "\n",
        "$\\text{Name : Kartik Srinivas}$\n",
        "\n",
        "\n",
        "$\\text{Roll : ES20BTECH11015}$\n",
        "\n",
        "$\\text{Welcome to the analysis of the Crane Problem !}$\n",
        "\n",
        "1.   \n",
        "$\\text{All the equations have been coded in LaTeX by me}$ \n",
        "2.  \n",
        "$\\text{The necessary explanations have been provided }$ \n"
      ],
      "metadata": {
        "id": "CbjGHbXOf6N6"
      }
    },
    {
      "cell_type": "code",
      "execution_count": 12,
      "metadata": {
        "id": "b4EUtbzB55iv"
      },
      "outputs": [],
      "source": [
        "import math\n",
        "import cvxpy as cp\n",
        "import numpy as np\n",
        "import matplotlib.pyplot as plt\n",
        "\n",
        "m = 0.1\n",
        "theta = 15*math.pi/180\n",
        "T_max = 2\n",
        "p_init = np.matrix([0,0]).T\n",
        "p_final = np.matrix([10,2]).T\n",
        "h =0.1\n",
        "g = 9.8\n",
        "epsilon = 1"
      ]
    },
    {
      "cell_type": "markdown",
      "source": [
        "## $\\text{Notation}$\n",
        "\n",
        "---\n",
        "\n",
        "\n",
        "\n",
        "$\\text{The Notations used are as follows}$\n",
        "\n",
        "\n",
        "\n",
        "1.   $ \\text{The Maximum Tension } T_{max} \\ \\in\\ \\mathbb{R} $\n",
        "\n",
        "\n",
        "2.   $ \\text{The Postion Matrix For all instants } p \\ \\in \\ \\mathbb{R^{2 \\times n}} $\n",
        "\n",
        "\n",
        "2.   $ \\text{The Velocity Matrix For all instants } v \\ \\in \\ \\mathbb{R^{2 \\times n}} $\n",
        "\n",
        "\n",
        "3.    $ \\text{The accuracy } 𝜀 \\in  \\ \\mathbb{Z^{+}}$\n",
        "\n",
        "\n",
        "4.   $ \\text{The gravity } g \\ \\in\\ \\mathbb{R^{2 \\times 1}} $\n",
        "\n",
        "\n",
        "5.   $ \\text{The Fraction Matrix } Frac \\ \\in\\ \\mathbb{R^{2 \\times 2}} $\n",
        "\n",
        "\n",
        "6.    $ \\text{The Force Matrix } F \\ \\in\\ \\mathbb{R^{2 \\times n - 1}} $\n",
        "\n",
        "\n",
        "\n",
        "\n",
        "7.    $ \\text{The Tension Matrix  } T \\ \\in\\ \\mathbb{R^{2 \\times n - 1}} $\n",
        "\n",
        "\n",
        "\n",
        "8.   $ \\text{The Force Matrix } F \\ \\in\\ \\mathbb{R^{2 \\times n - 1}} $\n",
        "\n",
        "\n",
        "\n",
        "9.    $ \\text{The mass } m \\in  \\ \\mathbb{R^{+}}$\n",
        "\n",
        "\n",
        "\n",
        "10.    $ \\text{The Discretizing Unit } h \\in  \\ \\mathbb{R^{+}}$\n"
      ],
      "metadata": {
        "id": "hHnl6bMf6GvE"
      }
    },
    {
      "cell_type": "markdown",
      "source": [
        "### $\\text{Framing the Data}$\n",
        "\n",
        "\n",
        "---\n",
        "\n",
        "The value of the forces are directly obtainable from the Tension, to make computation simpler we arrange them as follows:-\n",
        "\n",
        "\\begin{align}\n",
        "  T = \\begin{bmatrix} T_{left}^{(1)} & T_{left}^{(2)} \\ldots  T_{left}^{(n-1)}\\\\\n",
        "  T_{right}^{(1)} & T_{right}^{(2)} \\ldots T_{right}^{(n-1)}\\\\\n",
        "  \\end{bmatrix}\n",
        "  \\\\\n",
        "  \\\\\n",
        "  Frac = \\begin{bmatrix} -\\sin(θ) & \\sin(\\theta) \\\\\n",
        "  \\cos(θ) & -\\cos(θ) \\\\\n",
        "  \\end{bmatrix}\n",
        "  \\\\\n",
        "  \\\\\n",
        "  F = Frac * T + m \\times \\begin{bmatrix}  0 & 0 & 0 \\ldots \\\\\n",
        "  g & g & g \\ldots \\\\\n",
        "  \\end{bmatrix}\n",
        "\\end{align}"
      ],
      "metadata": {
        "id": "zjawalj3lp6D"
      }
    },
    {
      "cell_type": "code",
      "source": [
        "\n",
        "def find_Min_intervals(m,T_max,theta,p_init,p_final,h,epsilon):\n",
        "    intervals = 0\n",
        "    upper = 100\n",
        "    lower = 0\n",
        "    best = 0.0\n",
        "    while (abs(upper - lower) > epsilon):\n",
        "        print(\"alpha = \", intervals, \" Upper = \", upper, \"Lower = \", lower)\n",
        "\n",
        "        intervals = int((upper + lower) / 2)\n",
        "        T = cp.Variable((2, intervals - 1))\n",
        "        Frac = np.matrix([[-np.sin(theta), np.sin(theta)],\n",
        "                          [np.cos(theta), np.cos(theta)]])\n",
        "        g = np.matrix([0, -9.8]).T\n",
        "        F = m * np.tile(g, (1, intervals - 1)) + Frac @ T\n",
        "        v = cp.Variable((2, intervals))\n",
        "        p = cp.Variable((2, intervals))\n",
        "\n",
        "        # constraints :-\n",
        "        constraints = [T >= 0, T <= T_max]\n",
        "        constraints += [p[:, [0]] == p_init, p[:, [intervals - 1]] == p_final]\n",
        "        constraints += [p[:, 1:intervals] == p[:, 0:intervals - 1] + h * v[:, 0:intervals - 1]]\n",
        "        constraints += [v[:, [0]] == 0, v[:, [intervals - 1]] == 0]\n",
        "        constraints += [v[:, 1:intervals] == v[:, 0:intervals - 1] + (h / m) * F]\n",
        "\n",
        "        prob = cp.Problem(cp.Minimize(intervals), constraints)\n",
        "        prob.solve(solver=cp.ECOS)\n",
        "\n",
        "        if prob.status == 'optimal':\n",
        "            upper = intervals\n",
        "            Tension = T.value\n",
        "            Position = p.value\n",
        "        else:\n",
        "            lower = intervals\n",
        "    return (Tension,Position,upper)\n"
      ],
      "metadata": {
        "id": "d2x3M1yp6Q39"
      },
      "execution_count": 13,
      "outputs": []
    },
    {
      "cell_type": "markdown",
      "source": [
        "### $\\text{The Main Idea}$\n",
        "\n",
        "\n",
        "---\n",
        "\n",
        "We Know that if time is sufficiently high then we can achieve our task easily.\n",
        "Similarly, if the time is too low the task is not possible!\n",
        "In order to find the minimum possible time to do our work , we must try to perform a bisection algorithm starting with a \"feasible - not feasible\" interval and work our way up until we find the best possible time( So the problem behaves in a **Quasiconvex** Way)\n",
        "\n",
        "### $\\text{Constraints}$\n",
        "\n",
        "\n",
        "---\n",
        "\n",
        "\n",
        "\n",
        "\\begin{align}\n",
        "        T \\ge 0 \n",
        "        \\\\\n",
        "        T \\le T_{max}\n",
        "        \\\\  \n",
        "        p_{0} = p_{initial}\n",
        "        \\\\\n",
        "        p_{n - 1} = p_{final}\n",
        "        \\\\\n",
        "        p_{k} = p_{k-1} + h \\times v_{k-1}\n",
        "        \\\\\n",
        "        v_{0} = 0\n",
        "        \\\\\n",
        "        v_{n - 1} = 0\n",
        "        \\\\\n",
        "        v_k = v_{k-1} + h/m * F_{k-1}\n",
        "        \\\\\n",
        "\\end{align}"
      ],
      "metadata": {
        "id": "BG1LLvv2iQdg"
      }
    },
    {
      "cell_type": "markdown",
      "source": [
        ""
      ],
      "metadata": {
        "id": "liUjWNh-6Sop"
      }
    },
    {
      "cell_type": "code",
      "source": [
        "Tension, Position, intervals = find_Min_intervals(m,T_max,theta,p_init,p_final,h,epsilon)\n",
        "print(\"Intervals  = \\n\",intervals)\n",
        "print(\"best time = \\n\", intervals * h)\n",
        "plt.plot(Position[0, :].T, Position[1, :].T,'r+',label = \"Trajectory in Real Plane\", )\n",
        "plt.legend()\n",
        "plt.title(\"Trajectory\")\n",
        "plt.show()\n",
        "\n",
        "plt.plot(Tension[0,:],label = \" Left Wire Tension\")\n",
        "plt.plot(Tension[1,:],label = \" Right Wire Tension\")\n",
        "plt.legend()\n",
        "plt.title(\"Tension vs time\")\n",
        "plt.show()"
      ],
      "metadata": {
        "colab": {
          "base_uri": "https://localhost:8080/",
          "height": 736
        },
        "id": "CDH8dGNM6TP9",
        "outputId": "21551b06-463a-4336-8617-50087bff1934"
      },
      "execution_count": 14,
      "outputs": [
        {
          "output_type": "stream",
          "name": "stdout",
          "text": [
            "alpha =  0  Upper =  100 Lower =  0\n",
            "alpha =  50  Upper =  50 Lower =  0\n",
            "alpha =  25  Upper =  50 Lower =  25\n",
            "alpha =  37  Upper =  37 Lower =  25\n",
            "alpha =  31  Upper =  37 Lower =  31\n",
            "alpha =  34  Upper =  34 Lower =  31\n",
            "alpha =  32  Upper =  34 Lower =  32\n",
            "Intervals  = \n",
            " 34\n",
            "best time = \n",
            " 3.4000000000000004\n"
          ]
        },
        {
          "output_type": "display_data",
          "data": {
            "text/plain": [
              "<Figure size 432x288 with 1 Axes>"
            ],
            "image/png": "[encoded data removed]"
          },
          "metadata": {
            "needs_background": "light"
          }
        },
        {
          "output_type": "display_data",
          "data": {
            "text/plain": [
              "<Figure size 432x288 with 1 Axes>"
            ],
            "image/png": "[encoded data removed]"
          },
          "metadata": {
            "needs_background": "light"
          }
        }
      ]
    },
    {
      "cell_type": "markdown",
      "source": [
        "## $\\text{Final Answer}$\n",
        "\n",
        "\n",
        "---\n",
        "$\\text{Best Number of Intervals is found to be  = 34}$\n",
        "\n",
        "\n",
        "\n",
        "$\\text{Therefore the best time is found to be  = 3.4s}$\n",
        "\n",
        "$\\text{The trajectory is not linear because the linear path demands a higher value of}$ $\\text{θ (because the acting angle  for the constrained tension is too small for horizontal changes in velocity)}$\n",
        "\n",
        "$\\text{Try running this for theta = 60 degrees (the path will be linear!)}$\n"
      ],
      "metadata": {
        "id": "9eRvYHRHo0oO"
      }
    }
  ]
}