{
  "nbformat": 4,
  "nbformat_minor": 0,
  "metadata": {
    "colab": {
      "name": "Currency_ES15.ipynb",
      "provenance": [],
      "collapsed_sections": [],
      "toc_visible": true
    },
    "kernelspec": {
      "name": "python3",
      "display_name": "Python 3"
    },
    "language_info": {
      "name": "python"
    }
  },
  "cells": [
    {
      "cell_type": "markdown",
      "source": [
        "# **Introduction and a few remarks**\n",
        "\n",
        "Hey, I am Kartik, (ES15-Btech 20) ! Welcome to the analysis of the Currency Exchange Problem.\n",
        "\n",
        "Along side the code, \n",
        "\n",
        "\n",
        "*   I have made text blocks where I have explained each step\n",
        "*   **LaTeX** equations were coded by me to express equations\n"
      ],
      "metadata": {
        "id": "yhD_CohbR05R"
      }
    },
    {
      "cell_type": "code",
      "execution_count": 1,
      "metadata": {
        "id": "5V0QNdqYriWN"
      },
      "outputs": [],
      "source": [
        "import math\n",
        "\n",
        "import numpy as np\n",
        "import cvxpy as cp\n",
        "\n",
        "# Exchange rate data.\n",
        "tickers = [\"USD\", \"EUR\", \"GBP\", \"CAD\", \"JPY\", \"CNY\", \"RUB\", \"MXN\", \"INR\", \"BRL\"]\n",
        "n = len(tickers)\n",
        "F = np.zeros((n, n))\n",
        "# USD\n",
        "data = ([1.0, 0.87, 0.76, 1.31, 108.90, 6.72, 65.45, 19.11, 71.13, 3.69],\n",
        "        # EUR\n",
        "        [1.0, 0.88, 1.51, 125.15, 7.72, 75.23, 21.96, 81.85, 4.24],\n",
        "        # GBP\n",
        "        [1.0, 1.72, 142.94, 8.82, 85.90, 25.08, 93.50, 4.84],\n",
        "        # CAD\n",
        "        [1.0, 82.93, 5.11, 49.82, 14.54, 54.23, 2.81],\n",
        "        # JPY\n",
        "        [1.0, 0.062, 0.60, 0.18, 0.65, 0.034],\n",
        "        # CNY\n",
        "        [1.0, 9.74, 2.85, 10.61, 0.55],\n",
        "        # RUB\n",
        "        [1.0, 0.29, 1.09, 0.056],\n",
        "        # MXN\n",
        "        [1.0, 3.73, 0.19],\n",
        "        # INR\n",
        "        [1.0, 0.052],\n",
        "        # BRL\n",
        "        [1.0])\n",
        "for i in range(n):\n",
        "    F[i, i:] = data[i]\n",
        "for j in range(n):\n",
        "    for i in range(j + 1, n):\n",
        "        F[i, j] = 1.035 / F[j, i]\n",
        "\n",
        "# Initial and final portfolios.\n",
        "c_req = np.arange(1, n + 1)\n",
        "c_req = 1e4 * c_req / c_req.sum()\n",
        "c_init = c_req[::-1]"
      ]
    },
    {
      "cell_type": "markdown",
      "source": [
        "# **The Data:**\n",
        "\n",
        "The above section was taken from the data present on the website, In this section they build the relative currency values.Interestingly enough, you can notice that $F_{ij} $ is not exactly $1/F_{ji} $ but $1.035/F_{ji} $ , clearly slightly larger.\n",
        "This represents the cost of the exchanges!"
      ],
      "metadata": {
        "id": "WcBjXLTVsCwp"
      }
    },
    {
      "cell_type": "code",
      "source": [
        "def final_calc(X, F, c_init):\n",
        "    z = (X / F) @ np.ones(n) - X.T @ np.ones(n) + c_init\n",
        "    return z"
      ],
      "metadata": {
        "id": "aYFBOdASuOQK"
      },
      "execution_count": 2,
      "outputs": []
    },
    {
      "cell_type": "markdown",
      "source": [
        "## **The Calculation of Final Currency values:**\n",
        "\n",
        "The final currency values differ from the start by namely $2$ things.\n",
        "\n",
        "\n",
        "1.   The loss due to donation of a currency $j$\n",
        "2.   The rise in currency $j$ due to \"donations\" from other currencies to $j$\n",
        "\n",
        "They can be calculated as follows\n",
        "\n",
        "\n",
        "\n",
        "1.   $Loss(j) = $ : $\\sum_{i = 1}^{n}  X_{ij}$\n",
        "2.   $Gain(j) = $ : $\\sum_{i = 1}^{n} X_{ji}/F_{ji}$\n",
        "\n",
        "$ \\begin{align} Final(j) = Initial(j) - Loss(j) + Gain(j) \\end{align} $\n",
        "\n",
        "\n",
        "\n"
      ],
      "metadata": {
        "id": "1F8artFB-B8R"
      }
    },
    {
      "cell_type": "code",
      "source": [
        "def cost(c_init, X, F):\n",
        "    z = final_calc(X,F,c_init)\n",
        "    cost = (c_init - z) @ np.sqrt(F[:, 0] / F[0, :])\n",
        "    return cost"
      ],
      "metadata": {
        "id": "qFjGzmx5BTTC"
      },
      "execution_count": 4,
      "outputs": []
    },
    {
      "cell_type": "markdown",
      "source": [
        "## **The Cost Function:**\n",
        "\n",
        "The cost arises because of the factor of $1.035$ which was defined above.The cost of buying a currency $j$ using a currency $i$ is not the  exact inverse of buying a currency $i$ using currency $j$, an extra cost has been added to the scenario. \n",
        "\n",
        "This extra cost is what leads later to the \"***Cost function***\". The true value of a currency can be calculated  by averaging the bid and ask prices using\n",
        "the geometric mean of the bid and ask price in terms of dollars.\n",
        "\n",
        "Average cost of currency $j$ in terms of currency $i$  = $Avg_{ji}$\n",
        "\n",
        "$Avg_{ji} = (F_{ji}/F_{ij}) ^{0.5}$\n",
        "\n",
        "$Loss_{$}(j) = (Initial(j) - Final(j))* Avg_{j,i=1}$\n",
        "\n",
        "$Loss_{total} = \\sum_{j =1}^{n} Loss(j)$\n",
        "\n",
        "\n"
      ],
      "metadata": {
        "id": "mJdUuVwiBXHK"
      }
    },
    {
      "cell_type": "code",
      "source": [
        "X = cp.Variable((n,n))\n",
        "constraints = [X >= 0, cp.diag(X) == 0, X.T @ np.ones(n)<= c_init, final_calc(X, F, c_init) >= c_req]\n",
        "prob = cp.Problem(cp.Minimize(cost(c_init, X, F)), constraints)\n",
        "result = prob.solve()\n"
      ],
      "metadata": {
        "id": "AJyBZAtZK7eI"
      },
      "execution_count": 5,
      "outputs": []
    },
    {
      "cell_type": "markdown",
      "source": [
        "## **Optimization Based on the Constraints:**\n",
        "\n",
        "The constraints are trivial, namely the final values must be greater than the the required ones.\n",
        "However it must be noted that at any stage we cant deal more than we already have, Let the maximum dealings for currency $j$ = $Max(j)$\n",
        "\n",
        "$Max(j) = \\sum_{i = 1}^{n} X_{ij} <= Initial(j)$\n",
        "\n",
        "Also, we dont exchange within our own currency, since this will create no net change, so they can be ignored.\n",
        "\n",
        "$ \\forall{i} \\text{ }X_{ii} = 0$\n"
      ],
      "metadata": {
        "id": "Y40LJX0eLeSd"
      }
    },
    {
      "cell_type": "code",
      "source": [
        "print(\"the optimal X = \\n\",X.value)\n",
        "print(\"\\n The min cost is =\", result, \" USD\")\n",
        "print(\" Is final bigger than required?? = \\n\",final_calc(X.value, F, c_init) >= c_req)"
      ],
      "metadata": {
        "colab": {
          "base_uri": "https://localhost:8080/"
        },
        "id": "jbMWQwduM9W5",
        "outputId": "e402fcb7-568a-45cf-8611-4887d2a99ba3"
      },
      "execution_count": 9,
      "outputs": [
        {
          "output_type": "stream",
          "name": "stdout",
          "text": [
            "the optimal X = \n",
            " [[6.23500805e-14 4.26378962e-09 3.69571711e-09 5.64615472e-09\n",
            "  3.28710650e-07 1.61321086e-08 1.52124644e-07 4.45680500e-08\n",
            "  1.28905492e-07 5.88965811e-09]\n",
            " [5.05940761e-09 6.23513554e-14 8.66968379e-09 2.18217089e-08\n",
            "  1.25513932e-06 3.31083355e-08 3.09318779e-07 8.83503561e-08\n",
            "  1.95695253e-07 8.91695364e-09]\n",
            " [5.06144792e-09 2.78991627e-09 6.23537860e-14 5.45454545e+02\n",
            "  2.19926086e-06 3.75451490e-08 3.67347691e-07 1.01892604e-07\n",
            "  2.11540956e-07 9.74007895e-09]\n",
            " [5.55175378e-09 2.51244215e-09 1.88832907e-09 6.23477978e-14\n",
            "  6.78131186e-06 4.93100738e-08 4.50037900e-07 1.25444863e-07\n",
            "  2.37110316e-07 1.01946294e-08]\n",
            " [1.01153910e-08 2.71050628e-09 2.17947362e-09 3.48820899e-09\n",
            "  6.23430103e-14 4.06564748e-08 8.83995727e-07 4.38317197e-08\n",
            "  9.49168016e-07 1.01810185e-08]\n",
            " [1.65029401e+01 4.03105383e-09 3.17630883e-09 4.65764454e-09\n",
            "  4.05623583e-07 6.23420970e-14 7.27272724e+02 6.53362004e-07\n",
            "  3.74312655e-06 1.61201962e-08]\n",
            " [1.17316464e-08 3.04283792e-09 2.40179088e-09 3.77586488e-09\n",
            "  2.48497737e-07 1.35185805e-08 6.21954452e-14 3.69090908e+02\n",
            "  3.25939264e-07 1.80371420e-08]\n",
            " [1.56860433e+01 4.06057113e-09 3.13684416e-09 4.73007004e-09\n",
            "  1.81818175e+02 1.70055618e-08 1.27016042e-07 6.23455535e-14\n",
            "  5.64062708e-06 1.81818182e+02]\n",
            " [1.85192287e+01 4.36530077e-09 3.38120485e-09 5.14133496e-09\n",
            "  2.75898083e-07 1.69385277e-08 1.65479656e-07 4.66467495e-08\n",
            "  6.23494362e-14 1.53692384e-08]\n",
            " [5.09977827e+02 4.12289510e-09 3.12535598e-09 5.02687645e-09\n",
            "  3.79957363e-07 1.69783405e-08 1.27518074e-07 3.07748862e-08\n",
            "  1.35518058e-07 6.25190693e-14]]\n",
            "\n",
            " The min cost is = 7.720059340057958  USD\n",
            " Is final bigger than required?? = \n",
            " [ True  True  True  True  True  True  True  True  True  True]\n"
          ]
        }
      ]
    },
    {
      "cell_type": "markdown",
      "source": [
        "## **Conclusion and Result:**\n",
        "\n",
        "The optimal cost turns out to be $7.72$ $\n",
        "\n",
        "We can also notice that the diagonal entries of $X$ are all of order $10^{-14}$\n",
        "\n",
        "\n",
        "Note that now\n",
        "\n",
        "$ \\forall j \\in (1,n)  \\text{  } Final(j) >= Required(j) $.\n",
        "\n",
        "This completes the solution."
      ],
      "metadata": {
        "id": "Mpkg2XoCOxSq"
      }
    }
  ]
}