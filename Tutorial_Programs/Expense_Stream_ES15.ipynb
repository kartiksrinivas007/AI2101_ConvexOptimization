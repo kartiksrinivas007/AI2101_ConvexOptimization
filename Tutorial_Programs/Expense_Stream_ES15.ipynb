{
  "nbformat": 4,
  "nbformat_minor": 0,
  "metadata": {
    "colab": {
      "name": "Expense_Stream_ES15.ipynb",
      "provenance": [],
      "collapsed_sections": []
    },
    "kernelspec": {
      "name": "python3",
      "display_name": "Python 3"
    },
    "language_info": {
      "name": "python"
    }
  },
  "cells": [
    {
      "cell_type": "markdown",
      "source": [
        "#                        **Expense Stream Problem Analysis**\n",
        "\n",
        "\n",
        "---\n",
        "\n",
        "\n",
        "## **Introduction:**\n",
        "\n",
        "Hey! Welcome to the analysis of the expense stream Problem! My name is Kartik ,\n",
        "(ES20BTECH11015). The explanation for each step in solving the problem is given below the code blocks ,\n",
        "and the necessary equations have been written in **LaTeX**"
      ],
      "metadata": {
        "id": "QvTVVR-34Ry5"
      }
    },
    {
      "cell_type": "markdown",
      "source": [
        "## **The Data:**\n",
        "\n",
        "The Data has been taken from the data file present on the website, the variable $e$ is presented as a Matrix and not a Rank one Python array, so the variables we will use all must have compatible dimension. The Payout Matrix $P_{ij}$ has dimensions $(m,n)$ and the matrix e has dimensions $(n,1)$"
      ],
      "metadata": {
        "id": "9nbBT7uG0TJb"
      }
    },
    {
      "cell_type": "code",
      "execution_count": null,
      "metadata": {
        "id": "wsgXPb-80L2T"
      },
      "outputs": [],
      "source": [
        "import numpy as np\n",
        "import cvxpy as cp\n",
        "import matplotlib.pyplot as plt\n",
        "m = 29\n",
        "n = 36\n",
        "\n",
        "P = np.matrix([\n",
        " [0.166667,  0.111111,  0.083333,  0.000000,  0.000000,  0.000000,  0.000000,  0.000000,  0.000000,  0.000000,  0.000000,  0.000000,  0.000000,  0.000000,  0.000000,  0.000000,  0.000000,  0.000000,  0.000000,  0.000000,  0.000000,  0.000000,  0.000000,  0.000000,  0.000000,  0.000000,  0.000000,  0.000000,  0.000000,],\n",
        " [0.166667,  0.111111,  0.083333,  0.000000,  0.000000,  0.000000,  0.000000,  0.000000,  0.000000,  0.000000,  0.000000,  0.000000,  0.000000,  0.000000,  0.000000,  0.000000,  0.000000,  0.000000,  0.000000,  0.000000,  0.000000,  0.000000,  0.000000,  0.000000,  0.000000,  0.000000,  0.000000,  0.000000,  0.000000,],\n",
        " [0.166667,  0.111111,  0.083333,  0.000000,  0.000000,  0.000000,  0.000000,  0.000000,  0.000000,  0.000000,  0.000000,  0.000000,  0.000000,  0.000000,  0.000000,  0.000000,  0.000000,  0.000000,  0.000000,  0.000000,  0.000000,  0.000000,  0.000000,  0.000000,  0.000000,  0.000000,  0.000000,  0.000000,  0.000000,],\n",
        " [0.166667,  0.111111,  0.083333,  0.173437,  0.115439,  0.086163,  0.000000,  0.000000,  0.000000,  0.000000,  0.000000,  0.000000,  0.000000,  0.000000,  0.000000,  0.000000,  0.000000,  0.000000,  0.000000,  0.000000,  0.000000,  0.000000,  0.000000,  0.000000,  0.000000,  0.000000,  0.000000,  0.000000,  0.000000,],\n",
        " [0.166667,  0.111111,  0.083333,  0.173437,  0.115439,  0.086163,  0.000000,  0.000000,  0.000000,  0.000000,  0.000000,  0.000000,  0.000000,  0.000000,  0.000000,  0.000000,  0.000000,  0.000000,  0.000000,  0.000000,  0.000000,  0.000000,  0.000000,  0.000000,  0.000000,  0.000000,  0.000000,  0.000000,  0.000000,],\n",
        " [0.166667,  0.111111,  0.083333,  0.173437,  0.115439,  0.086163,  0.000000,  0.000000,  0.000000,  0.000000,  0.000000,  0.000000,  0.000000,  0.000000,  0.000000,  0.000000,  0.000000,  0.000000,  0.000000,  0.000000,  0.000000,  0.000000,  0.000000,  0.000000,  0.000000,  0.000000,  0.000000,  0.000000,  0.000000,],\n",
        " [0.166667,  0.111111,  0.083333,  0.173437,  0.115439,  0.086163,  0.187216,  0.125382,  0.095840,  0.000000,  0.000000,  0.000000,  0.000000,  0.000000,  0.000000,  0.000000,  0.000000,  0.000000,  0.000000,  0.000000,  0.000000,  0.000000,  0.000000,  0.000000,  0.000000,  0.000000,  0.000000,  0.000000,  0.000000,],\n",
        " [0.000000,  0.111111,  0.083333,  0.173437,  0.115439,  0.086163,  0.187216,  0.125382,  0.095840,  0.000000,  0.000000,  0.000000,  0.000000,  0.000000,  0.000000,  0.000000,  0.000000,  0.000000,  0.000000,  0.000000,  0.000000,  0.000000,  0.000000,  0.000000,  0.000000,  0.000000,  0.000000,  0.000000,  0.000000,],\n",
        " [0.000000,  0.111111,  0.083333,  0.173437,  0.115439,  0.086163,  0.187216,  0.125382,  0.095840,  0.000000,  0.000000,  0.000000,  0.000000,  0.000000,  0.000000,  0.000000,  0.000000,  0.000000,  0.000000,  0.000000,  0.000000,  0.000000,  0.000000,  0.000000,  0.000000,  0.000000,  0.000000,  0.000000,  0.000000,],\n",
        " [0.000000,  0.111111,  0.083333,  0.173437,  0.115439,  0.086163,  0.187216,  0.125382,  0.095840,  0.217975,  0.140170,  0.109240,  0.000000,  0.000000,  0.000000,  0.000000,  0.000000,  0.000000,  0.000000,  0.000000,  0.000000,  0.000000,  0.000000,  0.000000,  0.000000,  0.000000,  0.000000,  0.000000,  0.000000,],\n",
        " [0.000000,  0.000000,  0.083333,  0.000000,  0.115439,  0.086163,  0.187216,  0.125382,  0.095840,  0.217975,  0.140170,  0.109240,  0.000000,  0.000000,  0.000000,  0.000000,  0.000000,  0.000000,  0.000000,  0.000000,  0.000000,  0.000000,  0.000000,  0.000000,  0.000000,  0.000000,  0.000000,  0.000000,  0.000000,],\n",
        " [0.000000,  0.000000,  0.083333,  0.000000,  0.115439,  0.086163,  0.187216,  0.125382,  0.095840,  0.217975,  0.140170,  0.109240,  0.000000,  0.000000,  0.000000,  0.000000,  0.000000,  0.000000,  0.000000,  0.000000,  0.000000,  0.000000,  0.000000,  0.000000,  0.000000,  0.000000,  0.000000,  0.000000,  0.000000,],\n",
        " [0.000000,  0.000000,  0.083333,  0.000000,  0.115439,  0.086163,  0.187216,  0.125382,  0.095840,  0.217975,  0.140170,  0.109240,  0.253971,  0.167774,  0.126970,  0.000000,  0.000000,  0.000000,  0.000000,  0.000000,  0.000000,  0.000000,  0.000000,  0.000000,  0.000000,  0.000000,  0.000000,  0.000000,  0.000000,],\n",
        " [0.000000,  0.000000,  0.000000,  0.000000,  0.000000,  0.086163,  0.000000,  0.125382,  0.095840,  0.217975,  0.140170,  0.109240,  0.253971,  0.167774,  0.126970,  0.000000,  0.000000,  0.000000,  0.000000,  0.000000,  0.000000,  0.000000,  0.000000,  0.000000,  0.000000,  0.000000,  0.000000,  0.000000,  0.000000,],\n",
        " [0.000000,  0.000000,  0.000000,  0.000000,  0.000000,  0.086163,  0.000000,  0.125382,  0.095840,  0.217975,  0.140170,  0.109240,  0.253971,  0.167774,  0.126970,  0.000000,  0.000000,  0.000000,  0.000000,  0.000000,  0.000000,  0.000000,  0.000000,  0.000000,  0.000000,  0.000000,  0.000000,  0.000000,  0.000000,],\n",
        " [0.000000,  0.000000,  0.000000,  0.000000,  0.000000,  0.086163,  0.000000,  0.125382,  0.095840,  0.217975,  0.140170,  0.109240,  0.253971,  0.167774,  0.126970,  0.310248,  0.207073,  0.158951,  0.000000,  0.000000,  0.000000,  0.000000,  0.000000,  0.000000,  0.000000,  0.000000,  0.000000,  0.000000,  0.000000,],\n",
        " [0.000000,  0.000000,  0.000000,  0.000000,  0.000000,  0.000000,  0.000000,  0.000000,  0.095840,  0.000000,  0.140170,  0.109240,  0.253971,  0.167774,  0.126970,  0.310248,  0.207073,  0.158951,  0.000000,  0.000000,  0.000000,  0.000000,  0.000000,  0.000000,  0.000000,  0.000000,  0.000000,  0.000000,  0.000000,],\n",
        " [0.000000,  0.000000,  0.000000,  0.000000,  0.000000,  0.000000,  0.000000,  0.000000,  0.095840,  0.000000,  0.140170,  0.109240,  0.253971,  0.167774,  0.126970,  0.310248,  0.207073,  0.158951,  0.000000,  0.000000,  0.000000,  0.000000,  0.000000,  0.000000,  0.000000,  0.000000,  0.000000,  0.000000,  0.000000,],\n",
        " [0.000000,  0.000000,  0.000000,  0.000000,  0.000000,  0.000000,  0.000000,  0.000000,  0.095840,  0.000000,  0.140170,  0.109240,  0.253971,  0.167774,  0.126970,  0.310248,  0.207073,  0.158951,  0.410903,  0.273974,  0.202873,  0.000000,  0.000000,  0.000000,  0.000000,  0.000000,  0.000000,  0.000000,  0.000000,],\n",
        " [0.000000,  0.000000,  0.000000,  0.000000,  0.000000,  0.000000,  0.000000,  0.000000,  0.000000,  0.000000,  0.000000,  0.109240,  0.000000,  0.167774,  0.126970,  0.310248,  0.207073,  0.158951,  0.410903,  0.273974,  0.202873,  0.000000,  0.000000,  0.000000,  0.000000,  0.000000,  0.000000,  0.000000,  0.000000,],\n",
        " [0.000000,  0.000000,  0.000000,  0.000000,  0.000000,  0.000000,  0.000000,  0.000000,  0.000000,  0.000000,  0.000000,  0.109240,  0.000000,  0.167774,  0.126970,  0.310248,  0.207073,  0.158951,  0.410903,  0.273974,  0.202873,  0.000000,  0.000000,  0.000000,  0.000000,  0.000000,  0.000000,  0.000000,  0.000000,],\n",
        " [0.000000,  0.000000,  0.000000,  0.000000,  0.000000,  0.000000,  0.000000,  0.000000,  0.000000,  0.000000,  0.000000,  0.109240,  0.000000,  0.167774,  0.126970,  0.310248,  0.207073,  0.158951,  0.410903,  0.273974,  0.202873,  0.526401,  0.364610,  0.278455,  0.000000,  0.000000,  0.000000,  0.000000,  0.000000,],\n",
        " [0.000000,  0.000000,  0.000000,  0.000000,  0.000000,  0.000000,  0.000000,  0.000000,  0.000000,  0.000000,  0.000000,  0.000000,  0.000000,  0.000000,  0.126970,  0.000000,  0.207073,  0.158951,  0.410903,  0.273974,  0.202873,  0.526401,  0.364610,  0.278455,  0.000000,  0.000000,  0.000000,  0.000000,  0.000000,],\n",
        " [0.000000,  0.000000,  0.000000,  0.000000,  0.000000,  0.000000,  0.000000,  0.000000,  0.000000,  0.000000,  0.000000,  0.000000,  0.000000,  0.000000,  0.126970,  0.000000,  0.207073,  0.158951,  0.410903,  0.273974,  0.202873,  0.526401,  0.364610,  0.278455,  0.000000,  0.000000,  0.000000,  0.000000,  0.000000,],\n",
        " [0.000000,  0.000000,  0.000000,  0.000000,  0.000000,  0.000000,  0.000000,  0.000000,  0.000000,  0.000000,  0.000000,  0.000000,  0.000000,  0.000000,  0.126970,  0.000000,  0.207073,  0.158951,  0.410903,  0.273974,  0.202873,  0.526401,  0.364610,  0.278455,  0.763876,  0.515549,  0.383991,  0.000000,  0.000000,],\n",
        " [0.000000,  0.000000,  0.000000,  0.000000,  0.000000,  0.000000,  0.000000,  0.000000,  0.000000,  0.000000,  0.000000,  0.000000,  0.000000,  0.000000,  0.000000,  0.000000,  0.000000,  0.158951,  0.000000,  0.273974,  0.202873,  0.526401,  0.364610,  0.278455,  0.763876,  0.515549,  0.383991,  0.000000,  0.000000,],\n",
        " [0.000000,  0.000000,  0.000000,  0.000000,  0.000000,  0.000000,  0.000000,  0.000000,  0.000000,  0.000000,  0.000000,  0.000000,  0.000000,  0.000000,  0.000000,  0.000000,  0.000000,  0.158951,  0.000000,  0.273974,  0.202873,  0.526401,  0.364610,  0.278455,  0.763876,  0.515549,  0.383991,  0.000000,  0.000000,],\n",
        " [0.000000,  0.000000,  0.000000,  0.000000,  0.000000,  0.000000,  0.000000,  0.000000,  0.000000,  0.000000,  0.000000,  0.000000,  0.000000,  0.000000,  0.000000,  0.000000,  0.000000,  0.158951,  0.000000,  0.273974,  0.202873,  0.526401,  0.364610,  0.278455,  0.763876,  0.515549,  0.383991,  1.094606,  0.740793,],\n",
        " [0.000000,  0.000000,  0.000000,  0.000000,  0.000000,  0.000000,  0.000000,  0.000000,  0.000000,  0.000000,  0.000000,  0.000000,  0.000000,  0.000000,  0.000000,  0.000000,  0.000000,  0.000000,  0.000000,  0.000000,  0.202873,  0.000000,  0.364610,  0.278455,  0.763876,  0.515549,  0.383991,  1.094606,  0.740793,],\n",
        " [0.000000,  0.000000,  0.000000,  0.000000,  0.000000,  0.000000,  0.000000,  0.000000,  0.000000,  0.000000,  0.000000,  0.000000,  0.000000,  0.000000,  0.000000,  0.000000,  0.000000,  0.000000,  0.000000,  0.000000,  0.202873,  0.000000,  0.364610,  0.278455,  0.763876,  0.515549,  0.383991,  1.094606,  0.740793,],\n",
        " [0.000000,  0.000000,  0.000000,  0.000000,  0.000000,  0.000000,  0.000000,  0.000000,  0.000000,  0.000000,  0.000000,  0.000000,  0.000000,  0.000000,  0.000000,  0.000000,  0.000000,  0.000000,  0.000000,  0.000000,  0.202873,  0.000000,  0.364610,  0.278455,  0.763876,  0.515549,  0.383991,  1.094606,  0.740793,],\n",
        " [0.000000,  0.000000,  0.000000,  0.000000,  0.000000,  0.000000,  0.000000,  0.000000,  0.000000,  0.000000,  0.000000,  0.000000,  0.000000,  0.000000,  0.000000,  0.000000,  0.000000,  0.000000,  0.000000,  0.000000,  0.000000,  0.000000,  0.000000,  0.278455,  0.000000,  0.515549,  0.383991,  1.094606,  0.740793,],\n",
        " [0.000000,  0.000000,  0.000000,  0.000000,  0.000000,  0.000000,  0.000000,  0.000000,  0.000000,  0.000000,  0.000000,  0.000000,  0.000000,  0.000000,  0.000000,  0.000000,  0.000000,  0.000000,  0.000000,  0.000000,  0.000000,  0.000000,  0.000000,  0.278455,  0.000000,  0.515549,  0.383991,  1.094606,  0.740793,],\n",
        " [0.000000,  0.000000,  0.000000,  0.000000,  0.000000,  0.000000,  0.000000,  0.000000,  0.000000,  0.000000,  0.000000,  0.000000,  0.000000,  0.000000,  0.000000,  0.000000,  0.000000,  0.000000,  0.000000,  0.000000,  0.000000,  0.000000,  0.000000,  0.278455,  0.000000,  0.515549,  0.383991,  1.094606,  0.740793,],\n",
        " [0.000000,  0.000000,  0.000000,  0.000000,  0.000000,  0.000000,  0.000000,  0.000000,  0.000000,  0.000000,  0.000000,  0.000000,  0.000000,  0.000000,  0.000000,  0.000000,  0.000000,  0.000000,  0.000000,  0.000000,  0.000000,  0.000000,  0.000000,  0.000000,  0.000000,  0.000000,  0.383991,  0.000000,  0.740793,],\n",
        " [0.000000,  0.000000,  0.000000,  0.000000,  0.000000,  0.000000,  0.000000,  0.000000,  0.000000,  0.000000,  0.000000,  0.000000,  0.000000,  0.000000,  0.000000,  0.000000,  0.000000,  0.000000,  0.000000,  0.000000,  0.000000,  0.000000,  0.000000,  0.000000,  0.000000,  0.000000,  0.383991,  0.000000,  0.740793,]\n",
        "])\n",
        "\n",
        "e = np.matrix([\n",
        "  0.000000,\n",
        "  1.000000,\n",
        "  2.000000,\n",
        "  3.000000,\n",
        "  4.000000,\n",
        "  5.000000,\n",
        "  6.000000,\n",
        "  7.000000,\n",
        "  8.000000,\n",
        "  16.000000,\n",
        "  16.600000,\n",
        "  17.200000,\n",
        "  17.800000,\n",
        "  18.400000,\n",
        "  19.000000,\n",
        "  19.600000,\n",
        "  20.200000,\n",
        "  18.000000,\n",
        "  17.000000,\n",
        "  16.000000,\n",
        "  15.000000,\n",
        "  14.000000,\n",
        "  13.000000,\n",
        "  12.000000,\n",
        "  11.000000,\n",
        "  10.000000,\n",
        "  9.000000,\n",
        "  8.000000,\n",
        "  7.000000,\n",
        "  6.000000,\n",
        "  5.000000,\n",
        "  4.000000,\n",
        "  3.000000,\n",
        "  2.000000,\n",
        "  1.000000,\n",
        "  0.000000,\n",
        "]).T\n",
        "\n",
        "rho = 0.002500"
      ]
    },
    {
      "cell_type": "markdown",
      "source": [
        "## **Variables**\n",
        "\n",
        "The matrices $x, b, w $  represent the inital investment amount, the bank balance and the withdrawn amount respectively."
      ],
      "metadata": {
        "id": "YS2ptyVYSNeU"
      }
    },
    {
      "cell_type": "code",
      "source": [
        "x = cp.Variable((m,1))\n",
        "b = cp.Variable((n,1))\n",
        "w = cp.Variable((n,1))"
      ],
      "metadata": {
        "id": "tq_nXu0C14EL"
      },
      "execution_count": null,
      "outputs": []
    },
    {
      "cell_type": "markdown",
      "source": [
        "## **Constraints**\n",
        "\n",
        "The constraints involved are firstly , the changes of the bank balance over time described by the equation:\n",
        "\n",
        "$b_{i+1} = b_{i}(1 + ρ) - w_{i}$\n",
        "\n",
        "and the vales of withdrawn , invested and bank balance amounts are all nonnegative\n",
        "$ ∀i \\text{ } b_{i}, x_{i},w_{i} >=0  $\n",
        "\n",
        "At every stage the expenditure cannot cross the total amount that was withdrawn \n",
        "and the payout from the investments i.e.\n",
        "\n",
        "$ expend(t) <= withdraw(t) + \\sum_{j = 1}^{j =m} payouts_{tj}* x_{j}$\n",
        "\n",
        " In Matrix Notion:\n",
        "\n",
        " $\\forall t \\text{ }e_{t} <= w_{t} + (P * x)_{t}$\n",
        "\n"
      ],
      "metadata": {
        "id": "5jKlQOdpSsEE"
      }
    },
    {
      "cell_type": "code",
      "source": [
        "constraints = [b>=0, x>=0, w>=0]\n",
        "for i in range(n-1):\n",
        "    constraints += [b[i+1,0] == (1 + rho) * b[i,0] - w[i,0] ]\n",
        "\n",
        "constraints += [w + P @ x >= e]"
      ],
      "metadata": {
        "id": "u_EX8YJB2KcX"
      },
      "execution_count": null,
      "outputs": []
    },
    {
      "cell_type": "markdown",
      "source": [
        "## **Optimization**\n",
        "We need to Minimize the initila investments and sustain ourselves throughout the expense stream. The initial investments = $I_{inv}$\n",
        "\n",
        "$I_{inv} = b_1 + \\sum_{j = 1}^{j = m}  x_j$"
      ],
      "metadata": {
        "id": "hifFRuU3UmcU"
      }
    },
    {
      "cell_type": "code",
      "source": [
        "objective = cp.Minimize(b[0, 0] + cp.sum(x, axis = 0))\n",
        "problem = cp.Problem(objective, constraints)\n",
        "result = problem.solve()"
      ],
      "metadata": {
        "id": "7PN16jcU2SKy"
      },
      "execution_count": null,
      "outputs": []
    },
    {
      "cell_type": "markdown",
      "source": [
        "## **Optimal Solution**\n",
        "\n",
        "It can be seen that any negative value of $w$ is of order $10^{-8}$ so the solution has approximately non negative values.\n",
        "The final answer states that the total investment needed to be made is equal to \n",
        "$197.919{$}$"
      ],
      "metadata": {
        "id": "LcWYIKNiWFUh"
      }
    },
    {
      "cell_type": "code",
      "source": [
        "print(\"optimal value of investments=\\n \", result)\n",
        "print(\"optimal value of x = \\n\",x.value.T)\n",
        "print(\"optimal value of w = \\n \",w.value.T)\n",
        "print(\"optimal value of b = \\n\",b.value.T)"
      ],
      "metadata": {
        "colab": {
          "base_uri": "https://localhost:8080/"
        },
        "id": "XuvQi0rS2V6x",
        "outputId": "247ddd33-89e5-481c-8ec5-fa94a74f8f47"
      },
      "execution_count": null,
      "outputs": [
        {
          "output_type": "stream",
          "name": "stdout",
          "text": [
            "optimal value of investments=\n",
            "  197.91922192857714\n",
            "optimal value of x = \n",
            " [[3.58631211e-08 3.19384969e-08 1.98750319e-08 1.72973471e+01\n",
            "  3.60192169e-08 2.05465251e-08 1.60242713e+01 4.37820645e-08\n",
            "  3.25295869e-08 4.58768207e+01 4.87779095e-08 2.34310163e-08\n",
            "  1.88997970e+01 2.82444275e-08 1.66726223e-08 3.22322785e+01\n",
            "  4.29597819e-08 1.73321643e-08 1.21683221e+01 2.76098626e-08\n",
            "  1.19883388e-08 1.32978470e+01 3.98002405e-08 1.39485166e-08\n",
            "  3.92733895e+00 2.58897613e-08 1.53499004e-08 2.74071222e+00\n",
            "  1.34990468e+00]]\n",
            "optimal value of w = \n",
            "  [[ 1.89242943e-10  9.99999988e-01  1.99999999e+00  2.74701858e-09\n",
            "   9.99999998e-01  2.00000000e+00  1.00818556e-08  1.00000001e+00\n",
            "   2.00000001e+00  6.36286593e-09  3.59999999e+00  4.19999999e+00\n",
            "  -9.22693028e-10  3.59999963e+00  4.19999963e+00 -1.16795306e-09\n",
            "   5.39999969e+00  3.19999969e+00 -1.14928622e-09  9.99999990e-01\n",
            "   1.00690907e-09 -1.18848206e-09  9.99999975e-01  2.66007625e-10\n",
            "  -8.97066353e-10  4.16680265e-08 -3.92116769e-10 -2.60244789e-10\n",
            "   1.53314320e-08  5.33354072e-10  8.78030141e-10  1.06655790e-08\n",
            "   2.13074482e-09  2.84487528e-09  6.28042079e-08  6.18978532e+00]]\n",
            "optimal value of b = \n",
            " [[3.41045819e+01 3.41898434e+01 3.32753180e+01 3.13585063e+01\n",
            "  3.14369025e+01 3.05154948e+01 2.85917835e+01 2.86632630e+01\n",
            "  2.77349211e+01 2.58042584e+01 2.58687691e+01 2.23334410e+01\n",
            "  1.81892746e+01 1.82347478e+01 1.46803350e+01 1.05170362e+01\n",
            "  1.05433288e+01 5.16968746e+00 1.98261199e+00 1.98756852e+00\n",
            "  9.92537455e-01 9.95018798e-01 9.97506346e-01 1.36441216e-07\n",
            "  1.36516141e-07 1.37754333e-07 9.64305517e-08 9.70636152e-08\n",
            "  9.75663922e-08 8.24787734e-08 8.21515429e-08 8.14788429e-08\n",
            "  7.10169426e-08 6.90637343e-08 6.63915122e-08 3.75326451e-09]]\n"
          ]
        }
      ]
    },
    {
      "cell_type": "markdown",
      "source": [
        "## **Graphical Analysis:**\n",
        "\n",
        "Only the odd Numbered payouts have been printed on the legend of the graph,\n",
        "as a sanity check we can see that the withdrawals($w$) are all smaller than the \n",
        "the expenditure($e$)."
      ],
      "metadata": {
        "id": "FrjssMEqXeAe"
      }
    },
    {
      "cell_type": "code",
      "source": [
        "t = range(1,n+1,1)\n",
        "plt.plot(t,e, label = \"Expenditure\")\n",
        "plt.plot(t,w.value, label = \"Withdrawal\")\n",
        "for j in range(m):\n",
        "    k = P[:,j] * x.value[j,0]\n",
        "    format_string = f\" Payout {j}\"\n",
        "    if(j%2 == 1):\n",
        "      plt.plot(t, k, label = format_string)\n",
        "plt.xlabel('Time Period')\n",
        "plt.legend()\n",
        "plt.title(\"Expense Stream Graphical Analysis\")\n",
        "plt.show()"
      ],
      "metadata": {
        "colab": {
          "base_uri": "https://localhost:8080/",
          "height": 295
        },
        "id": "bW1pcjEP2ZRM",
        "outputId": "7cc1f1e5-b197-4073-87b3-509d98a6afea"
      },
      "execution_count": null,
      "outputs": [
        {
          "output_type": "display_data",
          "data": {
            "image/png": "[encoded data removed]",
            "text/plain": [
              "<Figure size 432x288 with 1 Axes>"
            ]
          },
          "metadata": {
            "needs_background": "light"
          }
        }
      ]
    },
    {
      "cell_type": "markdown",
      "source": [
        "## **Special Case : No initial Investments**\n",
        "\n",
        "In this case the optimal solution is an investment of $336.54{$}$ , much greater than the previous one as clearly there is no help from the payouts.Here the bank balance and the rate of growth have to handle the entire burden of expenses. Let us see what happens on plotting. "
      ],
      "metadata": {
        "id": "fDW3j4zUazom"
      }
    },
    {
      "cell_type": "code",
      "source": [
        "constraints2 = constraints + [x==0]\n",
        "prob2 = cp.Problem(objective, constraints2)\n",
        "result2 = prob2.solve()\n",
        "print(\"Minimum Initial investments value with x==0 = \", result2)\n",
        "print(\"optimal value of w = \\n \",w.value.T)\n",
        "print(\"optimal value of b = \\n\",b.value.T)"
      ],
      "metadata": {
        "colab": {
          "base_uri": "https://localhost:8080/"
        },
        "id": "1C7GAWZK3I8O",
        "outputId": "f05a49b6-4594-489d-f3d4-c6fb833b8313"
      },
      "execution_count": null,
      "outputs": [
        {
          "output_type": "stream",
          "name": "stdout",
          "text": [
            "Minimum Initial investments value with x==0 =  336.5454031016335\n",
            "optimal value of w = \n",
            "  [[2.37344239e-08 1.00000001e+00 2.00000001e+00 3.00000001e+00\n",
            "  4.00000001e+00 5.00000001e+00 6.00000001e+00 7.00000001e+00\n",
            "  8.00000001e+00 1.60000000e+01 1.66000000e+01 1.72000000e+01\n",
            "  1.78000000e+01 1.84000000e+01 1.90000000e+01 1.96000000e+01\n",
            "  2.02000000e+01 1.80000000e+01 1.70000000e+01 1.60000000e+01\n",
            "  1.50000000e+01 1.40000000e+01 1.30000000e+01 1.20000000e+01\n",
            "  1.10000000e+01 1.00000000e+01 9.00000001e+00 8.00000001e+00\n",
            "  7.00000001e+00 6.00000001e+00 5.00000001e+00 4.00000001e+00\n",
            "  3.00000001e+00 2.00000002e+00 1.00000003e+00 7.36877037e+01]]\n",
            "optimal value of b = \n",
            " [[3.36545403e+02 3.37386767e+02 3.37230233e+02 3.36073309e+02\n",
            "  3.33913492e+02 3.30748276e+02 3.26575147e+02 3.21391585e+02\n",
            "  3.15195064e+02 3.07983051e+02 2.92753009e+02 2.76884891e+02\n",
            "  2.60377104e+02 2.43228046e+02 2.25436116e+02 2.06999707e+02\n",
            "  1.87917206e+02 1.68186999e+02 1.50607466e+02 1.33983985e+02\n",
            "  1.18318945e+02 1.03614742e+02 8.98737792e+01 7.70984637e+01\n",
            "  6.52912098e+01 5.44544378e+01 4.45905739e+01 3.57020503e+01\n",
            "  2.77913054e+01 2.08607837e+01 1.49129356e+01 9.95021798e+00\n",
            "  5.97509351e+00 2.99003123e+00 9.97506288e-01 2.46636047e-08]]\n"
          ]
        }
      ]
    },
    {
      "cell_type": "code",
      "source": [
        ""
      ],
      "metadata": {
        "id": "Q_YzsONw6Hsp"
      },
      "execution_count": null,
      "outputs": []
    },
    {
      "cell_type": "markdown",
      "source": [
        "## **Graphical Analysis 2**\n",
        "\n",
        "As you can see the ***expenditures and the withdrawal match almost completely*** throughout the time period. Therefore the sum of total expenditures is nearly equal to the initial balance! Which in-turn is equal to the $I_{inv}$ \n",
        "\n",
        "This completes the analysis of the problem."
      ],
      "metadata": {
        "id": "GjSOraHBfuna"
      }
    },
    {
      "cell_type": "code",
      "source": [
        "import matplotlib.pyplot as plt2\n",
        "\n",
        "t = range(1,n+1,1)\n",
        "plt2.plot(t,e, label = \"Expenditure\")\n",
        "plt2.plot(t,w.value, label = \"Withdrawal\")\n",
        "plt2.plot(t,b.value, label = \"Balance\")\n",
        "plt2.xlabel('Time Period')\n",
        "plt2.legend()\n",
        "plt2.title(\"Expense Stream Graphical Analysis - Case 2\")\n",
        "plt2.show()\n",
        "print(\"sum of expenditures = \" ,np.sum(np.sum(e, axis = 1)))\n"
      ],
      "metadata": {
        "colab": {
          "base_uri": "https://localhost:8080/",
          "height": 312
        },
        "id": "PznkOtqTbnWJ",
        "outputId": "fa91a3e7-dfae-42bc-90b2-78feb6300377"
      },
      "execution_count": null,
      "outputs": [
        {
          "output_type": "display_data",
          "data": {
            "image/png": "[encoded data removed]",
            "text/plain": [
              "<Figure size 432x288 with 1 Axes>"
            ]
          },
          "metadata": {
            "needs_background": "light"
          }
        },
        {
          "output_type": "stream",
          "name": "stdout",
          "text": [
            "sum of expenditures =  351.79999999999995\n"
          ]
        }
      ]
    }
  ]
}