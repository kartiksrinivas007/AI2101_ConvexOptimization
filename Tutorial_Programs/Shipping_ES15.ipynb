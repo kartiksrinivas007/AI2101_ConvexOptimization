{
  "nbformat": 4,
  "nbformat_minor": 0,
  "metadata": {
    "colab": {
      "name": "Shipping_ES15.ipynb",
      "provenance": [],
      "collapsed_sections": [
        "u_aGMGloSw3Z"
      ]
    },
    "kernelspec": {
      "name": "python3",
      "display_name": "Python 3"
    },
    "language_info": {
      "name": "python"
    }
  },
  "cells": [
    {
      "cell_type": "markdown",
      "source": [
        "## **Introduction**\n",
        "Hey! Welcome to the analysis of the Shipping Problem!\n",
        "My name is\n",
        "\n",
        " $\\text{Kartik Srinivas}$\n",
        "\n",
        "\n",
        "$\\text{Roll  Number :ES20BTECH11015}$\n",
        "\n",
        "The problem has been divided into 3 parts and solved, all code blocks are executed and the necessary equations have been written in $\\text{LaTeX}$\n",
        "\n"
      ],
      "metadata": {
        "id": "bSOG8GsNTHph"
      }
    },
    {
      "cell_type": "markdown",
      "source": [
        "## **The Data**\n",
        "The data of the problem is very straightforward, the notation used for matrices are as follows:\n",
        "\n",
        "1.   $Demand = D \\text{   } \\epsilon \\text{ }\\mathbb{R}^{{5}\\times{1}}$\n",
        "2.   $Cost = C \\text{   } \\epsilon \\text{ }\\mathbb{R}^{{3}\\times{5}}$\n",
        "1.   $Supply = S \\text{   } \\epsilon \\text{ }\\mathbb{R}^{{3}\\times{5}}$\n",
        "\n",
        "\n",
        "\n"
      ],
      "metadata": {
        "id": "huYovg0oLn9q"
      }
    },
    {
      "cell_type": "code",
      "execution_count": 1,
      "metadata": {
        "id": "DnthgPaPLfEu"
      },
      "outputs": [],
      "source": [
        "import cvxpy as cp\n",
        "import numpy as np\n",
        "\n",
        "d = np.matrix([45,20,30,30,10]).T\n",
        "c = np.matrix([[8,6,10,9,8],[9,12,13,7,5],[14,9,16,5,2]])\n",
        "s = np.matrix([40,50,45]).T\n",
        "n = 3;\n",
        "m = 5;"
      ]
    },
    {
      "cell_type": "markdown",
      "source": [
        "## **The Variables and Constraints**\n",
        "The Variable $V$ has been defined as an $\\mathbb{R}^{{3}\\times{5}}$ matrix. We denote it as follows\n",
        "\n",
        "$V _{ij}$ = $\\text{Amount of goods shipped from location } i \\text{ to factory } j  $\n",
        "\n",
        "The constraints are as follows:\n",
        "\n",
        "\n",
        "*   Only a positive Amount can be shifted, so we have $V_{ij}>=0$\n",
        "*   Sum of total Shipment from a factory cannot exceed supply so we get\n",
        "$∑_{j = 1}^{j = 5}V_{ij}  <= S_{i}$\n",
        "\n",
        "*   The demand Must be satisfied $∑_{i = 1}^{i = 3}V_{ij} > = D_i$\n",
        "\n",
        "\n"
      ],
      "metadata": {
        "id": "UbKTP4glLncD"
      }
    },
    {
      "cell_type": "code",
      "source": [
        "v = cp.Variable((n,m));\n",
        "print(\"shapes =\",np.shape(d), np.shape(c), np.shape(s))\n",
        "constraints = [v>=0, v.T@np.ones((n,1)) >= d, v@np.ones((m,1))  ==s];"
      ],
      "metadata": {
        "colab": {
          "base_uri": "https://localhost:8080/"
        },
        "id": "D3tPEmSXPukJ",
        "outputId": "c3677654-3342-471a-e383-db3f4569a30b"
      },
      "execution_count": 2,
      "outputs": [
        {
          "output_type": "stream",
          "name": "stdout",
          "text": [
            "shapes = (5, 1) (3, 5) (3, 1)\n"
          ]
        }
      ]
    },
    {
      "cell_type": "markdown",
      "source": [
        "## **Optimization**\n",
        "The Optimization is to be done on the total cost.\n",
        "\n",
        "\n",
        "The total cost can be seen as the element wise product of the cost matrix$(C)$ and the amount matrix $(V)$\n",
        "\n",
        "$Cost = \\displaystyle ∑_{i}∑_{j} V_{ij} \\times C_{ij}$"
      ],
      "metadata": {
        "id": "qK-ZUtybRRT-"
      }
    },
    {
      "cell_type": "code",
      "source": [
        "objective = cp.Minimize( cp.sum((cp.multiply(c,v)))) #this is element wise multiplication\n",
        "prob = cp.Problem(objective,constraints);\n",
        "result = prob.solve();\n",
        "print(\"Optimal Cost result = \\n\",result)\n",
        "#for line in v.value:\n",
        "    #print('  '.join(map(str, line)))\n",
        "print(\"Optimal Giveaway matrix= \\n\")\n",
        "for i in range(3):\n",
        "    for j in range(5):\n",
        "        print(v.value[i][j],end = \"|\")\n",
        "    print(\"\\n\")\n"
      ],
      "metadata": {
        "colab": {
          "base_uri": "https://localhost:8080/"
        },
        "id": "dtrDx64qSgRN",
        "outputId": "4b0721f4-7ad9-43f9-a702-30797e8d8de2"
      },
      "execution_count": 4,
      "outputs": [
        {
          "output_type": "stream",
          "name": "stdout",
          "text": [
            "Optimal Cost result = \n",
            " 1025.0000000255045\n",
            "Optimal Giveaway matrix= \n",
            "\n",
            "6.151022161968637e-10|14.999999999862935|24.999999998993612|4.749702763345747e-10|5.637317186374904e-11|\n",
            "\n",
            "44.99999999837126|1.999878668806543e-09|4.999999998236501|7.523169778691479e-10|6.431943139683385e-10|\n",
            "\n",
            "9.419988439622996e-10|4.99999999787936|2.805678159289452e-09|29.99999999870076|9.999999999675351|\n",
            "\n"
          ]
        }
      ]
    },
    {
      "cell_type": "markdown",
      "source": [
        "## **Result**\n",
        "The final result yields an optimal cost of $1025 {$} $ and the Entries are also positive. This completes the problem"
      ],
      "metadata": {
        "id": "u_aGMGloSw3Z"
      }
    }
  ]
}