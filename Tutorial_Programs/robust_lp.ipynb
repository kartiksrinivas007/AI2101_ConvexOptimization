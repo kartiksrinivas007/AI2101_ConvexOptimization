{
 "cells": [
  {
   "cell_type": "markdown",
   "metadata": {},
   "source": [
    "## $\\text{Introduction}$\n",
    "\n",
    "---\n",
    "\n",
    "\n",
    "\n",
    "$\\text{Name : Kartik Srinivas}$\n",
    "\n",
    "\n",
    "$\\text{Roll : ES20BTECH11015}$\n",
    "\n",
    "$\\text{Welcome to the analysis of the Robust LP Problem !}$\n",
    "\n",
    "1.   $\\text{All the equations have been coded in LaTeX by me}$ \n",
    "2.  $\\text{The necessary explanations have been provided }$ \n"
   ]
  },
  {
   "cell_type": "code",
   "execution_count": 154,
   "metadata": {},
   "outputs": [],
   "source": [
    "import numpy as np\n",
    "import cvxpy as cp"
   ]
  },
  {
   "cell_type": "markdown",
   "metadata": {},
   "source": [
    "### $\\text{(a) Convexity}$\n",
    "\n",
    "---\n",
    "\n",
    "\\begin{align}\n",
    "f(x) = \\underset{c \\in C}{\\sup}  \\ c^T x = \\underset{c \\in C}{\\sup} \\ \\ \\text{(Affine)}\n",
    "\\\\\n",
    "A x \\ge b\n",
    "\\end{align}\n",
    "\n",
    "This function is a maximum of affine functions = maximum of convex functions  = convex\n",
    "\n",
    "\n",
    "\n",
    "Constraints are polyhedra, so they are convex"
   ]
  },
  {
   "cell_type": "code",
   "execution_count": 155,
   "metadata": {},
   "outputs": [],
   "source": [
    "np.random.seed(10)\n",
    "(m,n) = (30,10)\n",
    "A = np.random.rand(m,n)\n",
    "A = np.asmatrix(A)\n",
    "b = np.random.rand(m,1)\n",
    "b = np.asmatrix(b)\n",
    "c_nom = np.ones((n,1)) + np.random.rand(n,1)\n",
    "c_nom = np.asmatrix(c_nom)"
   ]
  },
  {
   "cell_type": "code",
   "execution_count": 166,
   "metadata": {},
   "outputs": [
    {
     "name": "stdout",
     "output_type": "stream",
     "text": [
      "(10, 1)\n",
      "(30, 10)\n",
      "(30, 1)\n",
      "<class 'numpy.matrix'>\n"
     ]
    }
   ],
   "source": [
    "print(c_nom.shape)\n",
    "print(A.shape)\n",
    "print(b.shape)\n",
    "print(type(A))"
   ]
  },
  {
   "cell_type": "code",
   "execution_count": 157,
   "metadata": {},
   "outputs": [],
   "source": [
    "x = cp.Variable((10,1))\n"
   ]
  },
  {
   "cell_type": "markdown",
   "metadata": {},
   "source": [
    "### $\\text{Framing F and g}$\n",
    "\n",
    "---\n",
    "\n",
    "F needs to be formed according to the constraints defined by \n",
    "\\begin{align}\n",
    "  c \\le 1.25  \\ c_{nom}\n",
    "  \\\\\n",
    "  -c \\le -0.75 \\  c_{nom}\n",
    "  \\\\\n",
    "  \\vec{1}^T c \\le \\vec{1}^T c_{nom}\n",
    "  \\\\\n",
    "  \\vec{-1}^T c \\le \\vec{-1}^T c_{nom}\n",
    "  \\\\\n",
    "\\end{align}\n",
    "In order to make this in matrix form we do the following\n",
    "\\begin{align}\n",
    "    \\begin{bmatrix}\n",
    "        I_{n \\times n} \\\\\n",
    "        -I_{n \\times n} \\\\\n",
    "        \\vec{1}^T c \\\\\n",
    "        \\vec{-1}^T c\n",
    "    \\end{bmatrix}\n",
    "    \\cdot\n",
    "    \\vec{c}\n",
    "     = \n",
    "     \\begin{bmatrix}\n",
    "     1.25 \\ c_{nom} \\\\\n",
    "     -0.75 \\ c_{nom} \\\\\n",
    "     \\vec{1}^T c_{nom} \\\\\n",
    "     \\vec{-1}^T c_{nom}\n",
    "     \\end{bmatrix}\n",
    "\\end{align}"
   ]
  },
  {
   "cell_type": "code",
   "execution_count": 158,
   "metadata": {},
   "outputs": [
    {
     "name": "stdout",
     "output_type": "stream",
     "text": [
      "[[ 1.  0.  0.  0.  0.  0.  0.  0.  0.  0.]\n",
      " [ 0.  1.  0.  0.  0.  0.  0.  0.  0.  0.]\n",
      " [ 0.  0.  1.  0.  0.  0.  0.  0.  0.  0.]\n",
      " [ 0.  0.  0.  1.  0.  0.  0.  0.  0.  0.]\n",
      " [ 0.  0.  0.  0.  1.  0.  0.  0.  0.  0.]\n",
      " [ 0.  0.  0.  0.  0.  1.  0.  0.  0.  0.]\n",
      " [ 0.  0.  0.  0.  0.  0.  1.  0.  0.  0.]\n",
      " [ 0.  0.  0.  0.  0.  0.  0.  1.  0.  0.]\n",
      " [ 0.  0.  0.  0.  0.  0.  0.  0.  1.  0.]\n",
      " [ 0.  0.  0.  0.  0.  0.  0.  0.  0.  1.]\n",
      " [-1. -0. -0. -0. -0. -0. -0. -0. -0. -0.]\n",
      " [-0. -1. -0. -0. -0. -0. -0. -0. -0. -0.]\n",
      " [-0. -0. -1. -0. -0. -0. -0. -0. -0. -0.]\n",
      " [-0. -0. -0. -1. -0. -0. -0. -0. -0. -0.]\n",
      " [-0. -0. -0. -0. -1. -0. -0. -0. -0. -0.]\n",
      " [-0. -0. -0. -0. -0. -1. -0. -0. -0. -0.]\n",
      " [-0. -0. -0. -0. -0. -0. -1. -0. -0. -0.]\n",
      " [-0. -0. -0. -0. -0. -0. -0. -1. -0. -0.]\n",
      " [-0. -0. -0. -0. -0. -0. -0. -0. -1. -0.]\n",
      " [-0. -0. -0. -0. -0. -0. -0. -0. -0. -1.]\n",
      " [ 1.  1.  1.  1.  1.  1.  1.  1.  1.  1.]\n",
      " [-1. -1. -1. -1. -1. -1. -1. -1. -1. -1.]]\n",
      "(22, 10)\n"
     ]
    }
   ],
   "source": [
    "#Now to generate the values of F and g\n",
    "I = np.eye(n)\n",
    "Stacked_identitites = np.block([\n",
    "    [I],\n",
    "    [-I]\n",
    "])\n",
    "F = np.vstack((np.vstack((Stacked_identitites, np.ones(n))), -1 *np.ones(n)))\n",
    "print(F)\n",
    "print(F.shape)"
   ]
  },
  {
   "cell_type": "code",
   "execution_count": 160,
   "metadata": {},
   "outputs": [
    {
     "name": "stdout",
     "output_type": "stream",
     "text": [
      "[[  2.00180047]\n",
      " [  1.37159062]\n",
      " [  1.6109186 ]\n",
      " [  2.15099988]\n",
      " [  1.93850758]\n",
      " [  2.29822127]\n",
      " [  1.97541419]\n",
      " [  1.48071467]\n",
      " [  2.01937765]\n",
      " [  2.35869386]\n",
      " [ -1.20108028]\n",
      " [ -0.82295437]\n",
      " [ -0.96655116]\n",
      " [ -1.29059993]\n",
      " [ -1.16310455]\n",
      " [ -1.37893276]\n",
      " [ -1.18524851]\n",
      " [ -0.8884288 ]\n",
      " [ -1.21162659]\n",
      " [ -1.41521632]\n",
      " [ 16.90149013]\n",
      " [-13.82849192]]\n",
      "(22, 1)\n"
     ]
    }
   ],
   "source": [
    "#to calculate g\n",
    "#print(c_nom)\n",
    "stacked_noms = np.vstack( ( (1.25 * c_nom), (-0.75 * c_nom) )  )\n",
    "# print(stacked_noms.shape)\n",
    "sum = np.sum(c_nom)\n",
    "#print(sum)\n",
    "g_1 = np.vstack((stacked_noms, 1.1*sum))\n",
    "g = np.vstack((g_1, -0.9*sum))\n",
    "print(g)\n",
    "print(g.shape)\n"
   ]
  },
  {
   "cell_type": "code",
   "execution_count": 161,
   "metadata": {},
   "outputs": [],
   "source": [
    "lam = cp.Variable(g.shape)"
   ]
  },
  {
   "cell_type": "markdown",
   "metadata": {},
   "source": [
    "### $\\text{(b),(c) Framing a Dual}$\n",
    "\n",
    "---\n",
    "\n",
    "THe dual of the problem is \n",
    "\\begin{align}\n",
    " f(x) = \\max g(\\lambda)\n",
    " \\\\\n",
    " \\lambda \\ge 0 \n",
    "\\end{align}\n",
    "Where :-\n",
    "\\begin{align}\n",
    "  g(\\lambda) = \\underset{c}{min}  \\ [c^T x + \\lambda^T(Fc  - g)]\n",
    "\\end{align}\n",
    "Unbounded unless coefficient of c is zero !\n",
    "\n",
    "\\begin{align}\n",
    "F^T \\lambda = x \n",
    "\\\\\n",
    "\\therefore g(\\lambda) = -\\lambda^T g\n",
    "\\end{align}\n",
    "\n",
    "Therefore the solution of the primal \n",
    "\\begin{align}\n",
    " \\underset{x}{\\min} \\ (\\underset{\\lambda}{\\max} \\ g(\\lambda)) =  \\underset{x, \\lambda}{\\min} \\ ( \\lambda^T g)\n",
    " \\\\\n",
    " \\lambda \\ge 0 \n",
    " \\\\\n",
    " F^T \\lambda = x \n",
    " \\\\\n",
    " Ax \\ge b\n",
    "\\end{align}\n",
    "\n",
    "\n"
   ]
  },
  {
   "cell_type": "code",
   "execution_count": 167,
   "metadata": {},
   "outputs": [
    {
     "name": "stdout",
     "output_type": "stream",
     "text": [
      "3.1659610520520705\n"
     ]
    }
   ],
   "source": [
    "objective = cp.Minimize(lam.T @ g)\n",
    "constraints = [F.T @ lam == x, lam >= 0 , A@x >= b]\n",
    "prob = cp.Problem(objective, constraints)\n",
    "result_dual_form = prob.solve()\n",
    "print(result_dual_form)\n",
    "x_robust = x.value"
   ]
  },
  {
   "cell_type": "code",
   "execution_count": 169,
   "metadata": {},
   "outputs": [
    {
     "name": "stdout",
     "output_type": "stream",
     "text": [
      "Result of Nominal C =  2.1092714620826003\n"
     ]
    }
   ],
   "source": [
    "#solving the primal using c_nom\n",
    "x2 = cp.Variable((10,1))\n",
    "test_obj = cp.Minimize(c_nom.T @ x2)\n",
    "test_constraints = [A@x2 >= b]\n",
    "test_prob = cp.Problem(test_obj,test_constraints)\n",
    "result_nominal = test_prob.solve()\n",
    "print(\"Result of Nominal C = \",result_nominal)"
   ]
  },
  {
   "cell_type": "code",
   "execution_count": 165,
   "metadata": {},
   "outputs": [
    {
     "name": "stdout",
     "output_type": "stream",
     "text": [
      "Result of Robust C =  2.5232088648898556\n"
     ]
    }
   ],
   "source": [
    "print(\"Result of Robust C = \", (c_nom.T @ x_robust)[0,0])"
   ]
  },
  {
   "cell_type": "markdown",
   "metadata": {},
   "source": [
    "### $\\text{Final Values}$ \n",
    "\n",
    "---\n",
    "\n",
    "\\begin{align}\n",
    " c_{nom}^T x_{robust} = 2.52\n",
    " \\\\\n",
    " c_{nom}^T x_{nominal} = 2.109\n",
    " \\\\\n",
    " f(x)_{min} = 3.165 \n",
    "\\end{align}"
   ]
  }
 ],
 "metadata": {
  "interpreter": {
   "hash": "916dbcbb3f70747c44a77c7bcd40155683ae19c65e1c03b4aa3499c5328201f1"
  },
  "kernelspec": {
   "display_name": "Python 3.8.10 64-bit",
   "language": "python",
   "name": "python3"
  },
  "language_info": {
   "codemirror_mode": {
    "name": "ipython",
    "version": 3
   },
   "file_extension": ".py",
   "mimetype": "text/x-python",
   "name": "python",
   "nbconvert_exporter": "python",
   "pygments_lexer": "ipython3",
   "version": "3.8.10"
  },
  "orig_nbformat": 4
 },
 "nbformat": 4,
 "nbformat_minor": 2
}
