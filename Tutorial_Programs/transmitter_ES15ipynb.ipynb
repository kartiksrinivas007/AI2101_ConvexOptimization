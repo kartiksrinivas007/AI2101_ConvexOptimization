{
  "nbformat": 4,
  "nbformat_minor": 0,
  "metadata": {
    "colab": {
      "name": "transmitter_ES15ipynb",
      "provenance": [],
      "collapsed_sections": []
    },
    "kernelspec": {
      "name": "python3",
      "display_name": "Python 3"
    },
    "language_info": {
      "name": "python"
    }
  },
  "cells": [
    {
      "cell_type": "markdown",
      "source": [
        "## $\\text{Introduction}$\n",
        "\n",
        "---\n",
        "\n",
        "\n",
        "\n",
        "$\\text{Name : Kartik Srinivas}$\n",
        "\n",
        "\n",
        "$\\text{Roll : ES20BTECH11015}$\n",
        "\n",
        "$\\text{Welcome to the analysis of the Transmitter Problem !}$\n",
        "\n",
        "1.   \n",
        "$\\text{All the equations have been coded in LaTeX by me}$ \n",
        "2.  \n",
        "$\\text{The necessary explanations have been provided }$ \n"
      ],
      "metadata": {
        "id": "hzgGkEo1-2EU"
      }
    },
    {
      "cell_type": "markdown",
      "source": [
        "## $\\text{Notation}$\n",
        "\n",
        "---\n",
        "\n",
        "\n",
        "\n",
        "$\\text{The Notations used are as follows}$\n",
        "\n",
        "\n",
        "\n",
        "1.   $ \\text{The Signal Power Matrix } S \\ 𝝐 \\ \\mathbb{R^{n \\times 1}} $\n",
        "2.   $ \\text{The Power Matrix } p \\ 𝝐 \\ \\mathbb{R^{n \\times 1}} $\n",
        "\n",
        "2.    $ \\text{The set of Maximum Allowable Transmitter Powers } P_{max} \\ 𝝐 \\ \\mathbb{R^{n \\times 1}}$\n",
        "\n",
        "1.   $ \\text{The maximum receiver Powers } P_{rec} \\ 𝝐 \\ \\mathbb{R^{n \\times 1}} $\n",
        "2.   $ \\text{The Path gain matrix } G \\ 𝝐 \\ \\mathbb{R^{n \\times n}} $\n",
        "\n",
        "1.   $ \\text{The Interference matrix } I \\ 𝝐 \\ \\mathbb{R^{n \\times n}} $\n",
        " \n",
        "1.   $ \\text{The Groups } Grp \\ 𝝐 \\ \\mathbb{R^{k \\times n}} $\n",
        "2.   $ \\text{The Group Maximum } Grp_{max} \\ 𝝐 \\ \\mathbb{R^{k \\times 1}} $\n",
        "\n",
        "1.   $\\text{Ratio Parameter } α \\ 𝛜 \\ \\mathbb{R} $\n",
        "\n",
        "\n",
        "\n",
        "\n",
        "\n",
        "\n"
      ],
      "metadata": {
        "id": "JezyZoMb-7jb"
      }
    },
    {
      "cell_type": "code",
      "source": [
        "import cvxpy as cp\n",
        "import numpy as np\n",
        "\n",
        "G = np.matrix([[1.0, 0.1, 0.2, 0.1, 0.0],\n",
        "               [0.1,1.0,0.1,0.1,0.0],\n",
        "               [0.2,0.1,2.0,0.2,0.2],\n",
        "               [0.1,0.1,0.2,1.0,0.1],\n",
        "               [0.0,0.0,0.2,0.1,1.0]])\n",
        "\n",
        "n, m = np.shape(G)\n",
        "\n",
        "P_max = np.matrix([3.0]*n).T\n",
        "\n",
        "P_received = np.matrix([5.0,5.0,5.0,5.0,5.0]).T\n",
        "\n",
        "sigma = np.matrix([0.5,0.5,0.5,0.5,0.5]).T\n",
        "\n",
        "Group = np.matrix([[1.,1.,0,0,0],[0,0,1.,1.,1.]])\n",
        "\n",
        "Group_max = np.matrix([4.0,6.0]).T\n"
      ],
      "metadata": {
        "id": "w425OBxRCTtu"
      },
      "execution_count": 28,
      "outputs": []
    },
    {
      "cell_type": "markdown",
      "source": [
        "### $\\text{Calculating Signal Powers}$\n",
        "\n",
        "---\n",
        "Note that $S = ∑ G_{ii} p_i  = (I_n * G) · p \\  $ ($I_n$ is the identity matrix and $*$ is element wise multiplication!) \n",
        "Let\n",
        "\n",
        "$I_n * G = G_{diag} \\implies S = G_{diag} · p$\n",
        "\n",
        "Also note that the interference is just the total received power - the Signal power Received, this takes the form\n",
        "\n",
        "$I  = (G · p  - S ·p)$\n",
        "\n",
        "Note that \n",
        "\\begin{align}\n",
        "\\frac{S_i}{I_i + σ_i} = \\frac{G_{diag}(i)^Tp }{(G(i) - S(i))^T p + σ} = \\frac{a^Tp + 0 }{c^T p + d}\n",
        "\\end{align}\n",
        "\n",
        "\n"
      ],
      "metadata": {
        "id": "rNLQ6lHWx3Sz"
      }
    },
    {
      "cell_type": "markdown",
      "source": [
        "### $\\text{Framing the data}$\n",
        "\n",
        "---\n",
        "\n",
        "Aside from the data given, we frame a matrix $Grp$ such that it contains 1's in the respective positions of the groups and 0's everywhere else, for our problem the Grp matrix looks like this (one row per group and 1's in the positions of transmitters):\n",
        "\n",
        "\\\\\n",
        "\n",
        "\\begin{align}\n",
        "           Grp = \n",
        "              \\begin{bmatrix}\n",
        "                1 & 1 & 0 & 0 & 0\\\\\n",
        "                0 & 0 & 1 & 1 & 1\\\\\n",
        "          \\end{bmatrix}        \n",
        "\\end{align}\n",
        "\n",
        "\\begin{align}\n",
        "           Grp \\times p = \n",
        "              \\begin{bmatrix}\n",
        "                1 & 1 & 0 & 0 & 0\\\\\n",
        "                0 & 0 & 1 & 1 & 1\\\\\n",
        "          \\end{bmatrix} \n",
        "          \\times \n",
        "          \\begin{bmatrix} \n",
        "           p_1\n",
        "           \\\\\n",
        "           p_2\n",
        "           \\\\\n",
        "           p_3\\\\\n",
        "           p_4\n",
        "           \\\\\n",
        "           p_5\n",
        "          \\end{bmatrix} \\le Grp_{max}       \n",
        "\\end{align}\n"
      ],
      "metadata": {
        "id": "J_-sWIsXCUUy"
      }
    },
    {
      "cell_type": "markdown",
      "source": [
        "### $\\text{The Basic Constraints}$\n",
        "\n",
        "---\n",
        "\n",
        "The constraints are as follows\n",
        "\n",
        "\\begin{align}\n",
        "  p \\ge 0 \n",
        "  \\\\\n",
        "  p \\le P_{max}\n",
        "  \\\\\n",
        "  Grp \\times p < Grp_{max}\n",
        "  \\\\\n",
        "  G \\times p < P_{rec}\n",
        "\\end{align}\n",
        "\n",
        "\n",
        "\n"
      ],
      "metadata": {
        "id": "DOXOvUWoATec"
      }
    },
    {
      "cell_type": "markdown",
      "source": [
        "### $\\text{The Main Constraint}$\n",
        "\n",
        "---\n",
        "\n",
        "Here is the rub, solving the problem directly is difficult. This is because the objective function $O$, is not Convex in nature(It is Quasiconvex) and therefore we must solve this program Manually. We need CVXPY to check whether our **chosen value of $α$ yields a feasible value of p**\n",
        "\n",
        "\\begin{align}\n",
        "\\text{Non Convex O: } max\\ (min_i \\ ( \\frac{S_i}{I_i + σ_i}))\n",
        "\\end{align}\n",
        "\n",
        "$\\text{The Quasi-Convex Formulation:}$\n",
        "\n",
        "\n",
        "\\begin{align}\n",
        "\\text{Quasi Convex O: } min\\ (max_i \\ ( \\frac{I_i + σ_i}{S_i})) = min \\ (α)\n",
        "\\\\\n",
        "\\text{Additional Constraint: } α \\le \\frac{I_i + σ_i}{S_i}\n",
        "\\end{align}\n",
        "\n",
        "We keep investigating correct values of alpha that make this problem feasible\n",
        "\n"
      ],
      "metadata": {
        "id": "-OhAKfsawdHd"
      }
    },
    {
      "cell_type": "markdown",
      "source": [
        "### $\\text{The SINR function}$\n",
        "\n",
        "---\n",
        "\n",
        "In this function, we will calculate the **Minimum** appropraite value of the parameter $α$ so that the problem is feasible. To do this we must repeatedly check if the problem status is feasible within a partciular interval until we obtain accuracy of a certain value.(Bisection Method)\n",
        "\n",
        "\n",
        "Here **if the problem is optimal with $L = x$ then the correct  minimum value of alpha lies below the lower bound! so we must reduce x!**\n",
        "\n",
        "\n",
        "We first check for $L = 0$  the problem is optimal.\n",
        "Similarly we must choose $U$ to be large enough so that the problem is feasible.\n",
        "\n",
        "On testing, $L = 0 ,\\  U = 10^5$ work!\n"
      ],
      "metadata": {
        "id": "9j6w1kLvE_sb"
      }
    },
    {
      "cell_type": "code",
      "source": [
        "def sinr(G, P_max, P_received, sigma, Group, Group_max, epsilon = 0.005):\n",
        "\n",
        "    n, m = np.shape(G)\n",
        "\n",
        "    In = np.identity(n)\n",
        "    G_diag = np.multiply(G,In)# Diagonal Matrix containing only G_ii \n",
        "    I = G-G_diag # interference power matrix ( without the dot product p, that will come in constraints)\n",
        "\n",
        "\n",
        "    p = cp.Variable(shape=(n,1))\n",
        "    best = np.zeros((n,1))\n",
        "\n",
        "\n",
        "    u = 1e5 #these values work!\n",
        "    l = 0\n",
        "\n",
        "\n",
        "    alpha = cp.Parameter(shape=1)\n",
        "\n",
        "    #  constraints for the bisection feasibility test\n",
        "    constraints = [I@p + sigma <= alpha*G_diag@p, p <= P_max, p >= 0, G@p <= P_received, Group@p <= Group_max]\n",
        "\n",
        "    # define objective function, in our case it's constant as only want to test the solution's feasibility\n",
        "    obj = cp.Minimize(alpha)\n",
        "\n",
        "    # now check whether the solution lies between u and l\n",
        "    alpha.value = [u]\n",
        "    prob = cp.Problem(obj, constraints)\n",
        "    prob.solve()\n",
        "\n",
        "    if prob.status != 'optimal':\n",
        "        # checking optimality of upper bound\n",
        "        print('No optimal solution within bounds\\n')\n",
        "        return 'Error: no optimal solution within bounds', np.nan, np.nan, np.nan\n",
        "\n",
        "    alpha.value = [l]\n",
        "    prob = cp.Problem(obj, constraints)\n",
        "    prob.solve()\n",
        "\n",
        "    if prob.status == 'optimal':\n",
        "#checking for lower bound failure\n",
        "        print('No optimal solution within bounds\\n')\n",
        "        return 'Error: no optimal solution within bounds', np.nan, np.nan, np.nan\n",
        "\n",
        "    # Bisection algortithm starts\n",
        "    maxnumberofLoop = int(1e7)\n",
        "    for i in range(1,maxnumberofLoop):\n",
        "  \n",
        "        alpha.value = np.atleast_1d((u + l)/2.0)\n",
        "\n",
        "        # test the size of the interval against epsilon\n",
        "        if u-l <= epsilon:\n",
        "            break\n",
        "\n",
        "        # form and solve problem\n",
        "        prob = cp.Problem(obj, constraints)\n",
        "        prob.solve()\n",
        "\n",
        "        # If the problem is feasible u -> α, if not l -> α, best takes the last feasible value as the optimal one as\n",
        "        # when the tolerance is reached the new α may be out of bounds\n",
        "        if prob.status == 'optimal':\n",
        "            u = alpha.value\n",
        "            best = p.value\n",
        "        else:\n",
        "            l = alpha.value\n",
        "\n",
        "        # final condition to check that the interval has converged to order epsilon\n",
        "        if u - l > epsilon and i == (maxnumberofLoop-1):\n",
        "            print(\"Solution not converged to order epsilon\")\n",
        "\n",
        "    return l, u, float(alpha.value), best\n",
        "\n",
        "l, u, alpha, best = sinr(G, P_max, P_received, sigma, Group, Group_max)\n",
        "\n"
      ],
      "metadata": {
        "id": "3Ji4RR5Lwa8s"
      },
      "execution_count": 29,
      "outputs": []
    },
    {
      "cell_type": "markdown",
      "source": [
        "### **$\\text{Final Answer}$**\n",
        "\n",
        "---\n",
        "The evaluation will yield an optimal value if $α$ which lies between $L$ and $U$ provided it happens in less that $10^7$ iterations\n",
        "\n",
        "\n",
        "\\begin{align}\n",
        " L \\le α_{min} \\le U\n",
        " \\\\\n",
        " |L - U| \\le ε = 0.005\n",
        "\\end{align}\n",
        "\n",
        "The final answer will be \n",
        "\\begin{align}\n",
        "α_{min} = max_i \\ ( \\frac{I_i + σ_i}{S_i}) \n",
        "\\\\\n",
        "\\frac{1}{α_{min}} = min_i \\ ( \\frac{S_i}{I_i + σ_i}) = SINR = 1.690 \\ (Output) \n",
        "\\end{align}\n",
        "\n"
      ],
      "metadata": {
        "id": "gC93NJ4o4Lb5"
      }
    },
    {
      "cell_type": "code",
      "execution_count": 30,
      "metadata": {
        "colab": {
          "base_uri": "https://localhost:8080/"
        },
        "id": "85nGv9dP-qom",
        "outputId": "d3c43929-98af-407f-bf77-71898a7ee7b6"
      },
      "outputs": [
        {
          "output_type": "stream",
          "name": "stdout",
          "text": [
            "Minimum SINR= 1.69039959697733\n",
            "Power= [[2.11786574]\n",
            " [1.88140368]\n",
            " [1.64634514]\n",
            " [2.38213007]\n",
            " [1.82031606]]\n",
            "Error =  0.001313779991187758\n",
            "Group powers =  [[ True]\n",
            " [ True]]\n",
            "P max [[ True]\n",
            " [ True]\n",
            " [ True]\n",
            " [ True]\n",
            " [ True]]\n",
            "P received  [[ True]\n",
            " [ True]\n",
            " [ True]\n",
            " [ True]\n",
            " [ True]]\n"
          ]
        }
      ],
      "source": [
        "print('Minimum SINR=',(1/alpha))\n",
        "print('Power=',best)\n",
        "In = np.identity(n)\n",
        "S = np.multiply(G,In)# signal power matrix\n",
        "I = G-S\n",
        "max_inv_SINR = np.max((I@best + sigma)/(S@best))\n",
        "print(\"Error = \", max_inv_SINR - alpha)\n",
        "print(\"Group powers = \", Group@best <= Group_max)\n",
        "print(\"P max\", best < P_max)\n",
        "print(\"P received \", G@best < P_received)\n"
      ]
    },
    {
      "cell_type": "markdown",
      "source": [
        "### $\\text{Conclusion}$\n",
        "\n",
        "---\n",
        "\n",
        "The program output is tested amongst all possible constraints and the error value for the \"Additional constraint \" Is quite small. This completes the analysis of the problem."
      ],
      "metadata": {
        "id": "f3tL3yxd81_2"
      }
    }
  ]
}